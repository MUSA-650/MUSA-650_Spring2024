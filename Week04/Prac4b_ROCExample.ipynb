{
 "cells": [
  {
   "cell_type": "markdown",
   "metadata": {},
   "source": [
    "## Receiver Operating Characteristic (ROC) Analysis\n",
    "#### https://scikit-learn.org/stable/modules/generated/sklearn.metrics.auc.html"
   ]
  },
  {
   "cell_type": "code",
   "execution_count": null,
   "metadata": {},
   "outputs": [],
   "source": [
    "print(__doc__)\n",
    "\n",
    "import numpy as np\n",
    "import matplotlib.pyplot as plt\n",
    "from itertools import cycle\n",
    "\n",
    "from sklearn import svm, datasets\n",
    "from sklearn.metrics import roc_curve, auc\n",
    "from sklearn.model_selection import train_test_split\n",
    "from sklearn.preprocessing import label_binarize\n",
    "from sklearn.multiclass import OneVsRestClassifier\n",
    "from scipy import interp\n",
    "from sklearn.metrics import roc_auc_score\n",
    "\n",
    "# Import some data to play with\n",
    "iris = datasets.load_iris()\n",
    "X = iris.data\n",
    "y = iris.target\n",
    "\n",
    "# Binarize the output\n",
    "y = label_binarize(y, classes=[0, 1, 2])\n",
    "n_classes = y.shape[1]\n",
    "\n",
    "# Add noisy features to make the problem harder\n",
    "random_state = np.random.RandomState(0)\n",
    "n_samples, n_features = X.shape\n",
    "X = np.c_[X, random_state.randn(n_samples, 200 * n_features)]\n",
    "\n",
    "# shuffle and split training and test sets\n",
    "X_train, X_test, y_train, y_test = train_test_split(X, y, test_size=.5,\n",
    "                                                    random_state=0)\n",
    "\n",
    "# Learn to predict each class against the other\n",
    "\n",
    "classifiers = []\n",
    "model1 = OneVsRestClassifier(svm.SVC(kernel='linear', probability=True, random_state=random_state))\n",
    "classifiers.append(model1)\n",
    "\n",
    "model2 = OneVsRestClassifier(svm.SVC(kernel='rbf', gamma ='scale', probability=True, random_state=random_state))\n",
    "classifiers.append(model2)\n",
    "\n",
    "fpr = dict()\n",
    "tpr = dict()\n",
    "roc_auc = dict()\n",
    "\n",
    "for i in range(len(classifiers)):\n",
    "    y_score = classifiers[i].fit(X_train, y_train).decision_function(X_test)\n",
    "\n",
    "    # Compute ROC curve and ROC area for each class\n",
    "    for j in range(n_classes):\n",
    "        setName='mdl' + str(i) + '_class' + str(j)\n",
    "        print('Calculating ROC for: ' + setName)\n",
    "        \n",
    "        fpr[setName], tpr[setName], _ = roc_curve(y_test[:, j], y_score[:, j])\n",
    "        roc_auc[setName] = auc(fpr[setName], tpr[setName])\n",
    "\n",
    "    # Compute micro-average ROC curve and ROC area\n",
    "    setName='mdl' + str(i) + '_classMicro'\n",
    "    print('Calculating ROC for: ' + setName)\n",
    "    fpr[setName], tpr[setName], _ = roc_curve(y_test.ravel(), y_score.ravel())\n",
    "    roc_auc[setName] = auc(fpr[setName], tpr[setName])"
   ]
  },
  {
   "cell_type": "code",
   "execution_count": null,
   "metadata": {},
   "outputs": [],
   "source": [
    "fpr.keys()"
   ]
  },
  {
   "cell_type": "code",
   "execution_count": null,
   "metadata": {},
   "outputs": [],
   "source": [
    "plt.figure(figsize=[16, 8])\n",
    "lw = 2\n",
    "\n",
    "# Plot all ROC curves\n",
    "#colors = cycle(['aqua', 'darkorange', 'cornflowerblue'])\n",
    "\n",
    "for i, tmpSet in enumerate(fpr.keys()):\n",
    "#    plt.plot(fpr[tmpSet], tpr[tmpSet], label=tmpSet + ' ROC curve (area = {0:0.2f})'''.format(roc_auc[tmpSet]), color=colors[i], linestyle=':', linewidth=4)\n",
    "    plt.plot(fpr[tmpSet], tpr[tmpSet], label=tmpSet + ' ROC curve (area = {0:0.2f})'''.format(roc_auc[tmpSet]), linestyle=':', linewidth=4)\n",
    "\n",
    "plt.plot([0, 1], [0, 1], 'k--', lw=lw)\n",
    "plt.xlim([0.0, 1.0])\n",
    "plt.ylim([0.0, 1.05])\n",
    "plt.xlabel('False Positive Rate')\n",
    "plt.ylabel('True Positive Rate')\n",
    "plt.title('ROC Two Classifiers')\n",
    "plt.legend(loc=\"lower right\")\n",
    "plt.show()\n"
   ]
  }
 ],
 "metadata": {
  "kernelspec": {
   "display_name": "Python 3 (ipykernel)",
   "language": "python",
   "name": "python3"
  },
  "language_info": {
   "codemirror_mode": {
    "name": "ipython",
    "version": 3
   },
   "file_extension": ".py",
   "mimetype": "text/x-python",
   "name": "python",
   "nbconvert_exporter": "python",
   "pygments_lexer": "ipython3",
   "version": "3.9.12"
  }
 },
 "nbformat": 4,
 "nbformat_minor": 2
}
