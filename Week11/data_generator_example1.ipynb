{
  "nbformat": 4,
  "nbformat_minor": 0,
  "metadata": {
    "colab": {
      "provenance": []
    },
    "kernelspec": {
      "name": "python3",
      "display_name": "Python 3"
    },
    "language_info": {
      "name": "python"
    }
  },
  "cells": [
    {
      "cell_type": "markdown",
      "source": [],
      "metadata": {
        "id": "sI-owaYq6mJo"
      }
    },
    {
      "cell_type": "code",
      "source": [
        "'''This script goes along the blog post\n",
        "\"Building powerful image classification models using very little data\"\n",
        "from blog.keras.io.\n",
        "It uses data that can be downloaded at:\n",
        "https://www.kaggle.com/c/dogs-vs-cats/data\n",
        "In our setup, we:\n",
        "- created a data/ folder\n",
        "- created train/ and validation/ subfolders inside data/\n",
        "- created cats/ and dogs/ subfolders inside train/ and validation/\n",
        "- put the cat pictures index 0-999 in data/train/cats\n",
        "- put the cat pictures index 1000-1400 in data/validation/cats\n",
        "- put the dogs pictures index 12500-13499 in data/train/dogs\n",
        "- put the dog pictures index 13500-13900 in data/validation/dogs\n",
        "So that we have 1000 training examples for each class, and 400 validation examples for each class.\n",
        "In summary, this is our directory structure:\n",
        "```\n",
        "data/\n",
        "    train/\n",
        "        dogs/\n",
        "            dog001.jpg\n",
        "            dog002.jpg\n",
        "            ...\n",
        "        cats/\n",
        "            cat001.jpg\n",
        "            cat002.jpg\n",
        "            ...\n",
        "    validation/\n",
        "        dogs/\n",
        "            dog001.jpg\n",
        "            dog002.jpg\n",
        "            ...\n",
        "        cats/\n",
        "            cat001.jpg\n",
        "            cat002.jpg\n",
        "            ...\n",
        "```\n",
        "'''"
      ],
      "metadata": {
        "colab": {
          "base_uri": "https://localhost:8080/",
          "height": 105
        },
        "id": "HL6Ygua0aNyo",
        "outputId": "68f4c3b4-02dd-46cc-9451-ba4aadc2c42e"
      },
      "execution_count": 18,
      "outputs": [
        {
          "output_type": "execute_result",
          "data": {
            "text/plain": [
              "'This script goes along the blog post\\n\"Building powerful image classification models using very little data\"\\nfrom blog.keras.io.\\nIt uses data that can be downloaded at:\\nhttps://www.kaggle.com/c/dogs-vs-cats/data\\nIn our setup, we:\\n- created a data/ folder\\n- created train/ and validation/ subfolders inside data/\\n- created cats/ and dogs/ subfolders inside train/ and validation/\\n- put the cat pictures index 0-999 in data/train/cats\\n- put the cat pictures index 1000-1400 in data/validation/cats\\n- put the dogs pictures index 12500-13499 in data/train/dogs\\n- put the dog pictures index 13500-13900 in data/validation/dogs\\nSo that we have 1000 training examples for each class, and 400 validation examples for each class.\\nIn summary, this is our directory structure:\\n```\\ndata/\\n    train/\\n        dogs/\\n            dog001.jpg\\n            dog002.jpg\\n            ...\\n        cats/\\n            cat001.jpg\\n            cat002.jpg\\n            ...\\n    validation/\\n        dogs/\\n            dog001.jpg\\n            dog002.jpg\\n            ...\\n        cats/\\n            cat001.jpg\\n            cat002.jpg\\n            ...\\n```\\n'"
            ],
            "application/vnd.google.colaboratory.intrinsic+json": {
              "type": "string"
            }
          },
          "metadata": {},
          "execution_count": 18
        }
      ]
    },
    {
      "cell_type": "code",
      "source": [
        "from keras.preprocessing.image import ImageDataGenerator\n",
        "from keras.models import Sequential\n",
        "from keras.layers import Conv2D, MaxPooling2D\n",
        "from keras.layers import Activation, Dropout, Flatten, Dense\n",
        "from keras import backend as K\n",
        "\n"
      ],
      "metadata": {
        "id": "0uIs6edAYNKt"
      },
      "execution_count": 19,
      "outputs": []
    },
    {
      "cell_type": "code",
      "source": [
        "# dimensions of our images.\n",
        "img_width, img_height = 150, 150\n",
        "\n",
        "train_data_dir = '/content/drive/MyDrive/tmp/data/train'\n",
        "validation_data_dir = '/content/drive/MyDrive/tmp/data/validation'\n",
        "test_data_dir = '/content/drive/MyDrive/tmp/data/test'\n",
        "nb_train_samples = 20\n",
        "nb_validation_samples = 18\n",
        "nb_test_samples = 10\n",
        "epochs = 5\n",
        "batch_size = 10\n",
        "\n",
        "if K.image_data_format() == 'channels_first':\n",
        "    input_shape = (3, img_width, img_height)\n",
        "else:\n",
        "    input_shape = (img_width, img_height, 3)\n"
      ],
      "metadata": {
        "id": "0eKIabXzYRAg"
      },
      "execution_count": 22,
      "outputs": []
    },
    {
      "cell_type": "code",
      "source": [
        "model = Sequential()\n",
        "model.add(Conv2D(32, (3, 3), input_shape=input_shape))\n",
        "model.add(Activation('relu'))\n",
        "model.add(MaxPooling2D(pool_size=(2, 2)))\n",
        "\n",
        "model.add(Conv2D(32, (3, 3)))\n",
        "model.add(Activation('relu'))\n",
        "model.add(MaxPooling2D(pool_size=(2, 2)))\n",
        "\n",
        "model.add(Conv2D(64, (3, 3)))\n",
        "model.add(Activation('relu'))\n",
        "model.add(MaxPooling2D(pool_size=(2, 2)))\n",
        "\n",
        "model.add(Flatten())\n",
        "model.add(Dense(64))\n",
        "model.add(Activation('relu'))\n",
        "model.add(Dropout(0.5))\n",
        "model.add(Dense(1))\n",
        "model.add(Activation('sigmoid'))\n",
        "\n"
      ],
      "metadata": {
        "id": "cW7RGmhNYty5"
      },
      "execution_count": 10,
      "outputs": []
    },
    {
      "cell_type": "code",
      "source": [
        "model.compile(loss='binary_crossentropy',\n",
        "              optimizer='rmsprop',\n",
        "              metrics=['accuracy'])\n"
      ],
      "metadata": {
        "id": "oqcDEs_mYx_y"
      },
      "execution_count": 11,
      "outputs": []
    },
    {
      "cell_type": "code",
      "source": [
        "# this is the augmentation configuration we will use for training\n",
        "train_datagen = ImageDataGenerator(\n",
        "    rescale=1. / 255,\n",
        "    shear_range=0.2,\n",
        "    zoom_range=0.2,\n",
        "    horizontal_flip=True)\n",
        "\n",
        "# this is the augmentation configuration we will use for testing:\n",
        "# only rescaling\n",
        "test_datagen = ImageDataGenerator(rescale=1. / 255)\n",
        "\n"
      ],
      "metadata": {
        "id": "bJniPIdvYzcC"
      },
      "execution_count": 12,
      "outputs": []
    },
    {
      "cell_type": "code",
      "source": [
        "train_generator = train_datagen.flow_from_directory(\n",
        "    train_data_dir,\n",
        "    target_size=(img_width, img_height),\n",
        "    batch_size=batch_size,\n",
        "    class_mode='binary')\n",
        "\n",
        "validation_generator = test_datagen.flow_from_directory(\n",
        "    validation_data_dir,\n",
        "    target_size=(img_width, img_height),\n",
        "    batch_size=batch_size,\n",
        "    class_mode='binary')\n"
      ],
      "metadata": {
        "colab": {
          "base_uri": "https://localhost:8080/"
        },
        "id": "P9x5UpKNY6FR",
        "outputId": "3a9ead2a-4887-48df-fe51-392721739a37"
      },
      "execution_count": 13,
      "outputs": [
        {
          "output_type": "stream",
          "name": "stdout",
          "text": [
            "Found 20 images belonging to 2 classes.\n",
            "Found 18 images belonging to 2 classes.\n"
          ]
        }
      ]
    },
    {
      "cell_type": "code",
      "source": [
        "model.fit_generator(\n",
        "    train_generator,\n",
        "    steps_per_epoch=nb_train_samples // batch_size,\n",
        "    epochs=epochs,\n",
        "    validation_data=validation_generator,\n",
        "    validation_steps=nb_validation_samples // batch_size)\n",
        "\n",
        "model.save_weights('/content/drive/MyDrive/tmp/model_first_try.h5')"
      ],
      "metadata": {
        "colab": {
          "base_uri": "https://localhost:8080/"
        },
        "id": "fD-pfOKQYKjE",
        "outputId": "15fc34f9-903b-4a25-ba4d-8b98da461ed7"
      },
      "execution_count": 14,
      "outputs": [
        {
          "output_type": "stream",
          "name": "stderr",
          "text": [
            "<ipython-input-14-697decb8bac5>:1: UserWarning: `Model.fit_generator` is deprecated and will be removed in a future version. Please use `Model.fit`, which supports generators.\n",
            "  model.fit_generator(\n"
          ]
        },
        {
          "output_type": "stream",
          "name": "stdout",
          "text": [
            "Epoch 1/5\n",
            "2/2 [==============================] - 8s 6s/step - loss: 1.0211 - accuracy: 0.4500 - val_loss: 0.7028 - val_accuracy: 0.5000\n",
            "Epoch 2/5\n",
            "2/2 [==============================] - 1s 542ms/step - loss: 0.7463 - accuracy: 0.4000 - val_loss: 0.7019 - val_accuracy: 0.5000\n",
            "Epoch 3/5\n",
            "2/2 [==============================] - 1s 634ms/step - loss: 0.6812 - accuracy: 0.6000 - val_loss: 0.7096 - val_accuracy: 0.4000\n",
            "Epoch 4/5\n",
            "2/2 [==============================] - 1s 641ms/step - loss: 0.7019 - accuracy: 0.6500 - val_loss: 0.6937 - val_accuracy: 0.6000\n",
            "Epoch 5/5\n",
            "2/2 [==============================] - 1s 606ms/step - loss: 0.6683 - accuracy: 0.6500 - val_loss: 0.8289 - val_accuracy: 0.3000\n"
          ]
        }
      ]
    },
    {
      "cell_type": "code",
      "source": [
        "\n",
        "model.evaluate(validation_generator)"
      ],
      "metadata": {
        "colab": {
          "base_uri": "https://localhost:8080/"
        },
        "id": "HknRLhoz6egh",
        "outputId": "ad68bfc1-f56c-4585-a80e-88de3053983f"
      },
      "execution_count": 17,
      "outputs": [
        {
          "output_type": "stream",
          "name": "stdout",
          "text": [
            "2/2 [==============================] - 1s 150ms/step - loss: 0.7400 - accuracy: 0.5000\n"
          ]
        },
        {
          "output_type": "execute_result",
          "data": {
            "text/plain": [
              "[0.7400233745574951, 0.5]"
            ]
          },
          "metadata": {},
          "execution_count": 17
        }
      ]
    },
    {
      "cell_type": "code",
      "source": [
        "test_generator = test_datagen.flow_from_directory(\n",
        "    test_data_dir,\n",
        "    target_size=(img_width, img_height),\n",
        "    batch_size=batch_size,\n",
        "    class_mode='binary')"
      ],
      "metadata": {
        "colab": {
          "base_uri": "https://localhost:8080/"
        },
        "id": "0Pt34voc7JS3",
        "outputId": "3b04e6e5-1d58-422c-8b70-a9dd7950769f"
      },
      "execution_count": 23,
      "outputs": [
        {
          "output_type": "stream",
          "name": "stdout",
          "text": [
            "Found 10 images belonging to 2 classes.\n"
          ]
        }
      ]
    },
    {
      "cell_type": "code",
      "source": [
        "test_loss, test_accuracy = model.evaluate(test_generator)\n",
        "print(f'Test accuracy: {test_accuracy}')"
      ],
      "metadata": {
        "colab": {
          "base_uri": "https://localhost:8080/"
        },
        "id": "_tSxveb1YwJB",
        "outputId": "99b92eb1-7025-45ef-d7be-bb1d7709ba8e"
      },
      "execution_count": 24,
      "outputs": [
        {
          "output_type": "stream",
          "name": "stdout",
          "text": [
            "1/1 [==============================] - 0s 228ms/step - loss: 0.6779 - accuracy: 0.5000\n",
            "Test accuracy: 0.5\n"
          ]
        }
      ]
    },
    {
      "cell_type": "code",
      "source": [],
      "metadata": {
        "id": "4fssNlf4YTzy"
      },
      "execution_count": null,
      "outputs": []
    }
  ]
}