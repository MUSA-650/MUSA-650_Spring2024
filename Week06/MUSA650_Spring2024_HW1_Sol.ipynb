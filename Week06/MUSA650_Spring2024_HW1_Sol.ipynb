{
  "cells": [
    {
      "cell_type": "markdown",
      "metadata": {
        "id": "gIxs-OVuBsR6"
      },
      "source": [
        "## HW1 - Basics of ML\n",
        "Include your code in the relevant cells below.\n",
        "Subparts labeled as questions (Q1.1, Q1.2, etc.) should have their answers filled in or plots placed prominently, as appropriate."
      ]
    },
    {
      "cell_type": "markdown",
      "metadata": {
        "id": "chWZbBpCBsSE"
      },
      "source": [
        "#### Important notes:\n",
        "\n",
        "1. On this and future homeworks, depending on the data size and your hardware configuration, experiments may take too long if you use the complete dataset. This may be challenging, as you may need to run multiple experiments. So, if an experiment takes too much time, start first with a smaller sample that will allow you to run your code within a reasonable time. Once you complete all tasks, before the final submission, you can allow longer run times and run your code with the complete set. However, if this is still taking too much time or causing your computer to freeze, it will be OK to submit experiments using a sample size that is feasible for your setting (indicate it clearly in your submission). Grading of the homework will not be affected from this type of variations in the design of your experiments.\n",
        "\n",
        "\n",
        "2. You can switch between 2D image data and 1D vector data using the numpy functions flatten() and resize()"
      ]
    },
    {
      "cell_type": "markdown",
      "metadata": {
        "id": "z0gW5RFqBsSI"
      },
      "source": [
        "### S1: Filtering the data\n",
        "- Load MNIST FASHION dataset (hint: use the practice notebook)\n",
        "- Select a training set with the first n=100 samples from each category\n",
        "- Select a testing set with the first n=100 samples from each category\n",
        "- Create a numpy matrix named mat_avg defined as:\n",
        "  A 10 x 2 matrix with the average intensity of all images in each category for the training and testing sets (rows: 10 categories, columns: average intensity in train set,  average intensity in test set)\n",
        "\n",
        "Q1.1: Which category has the largest average intensity value in training data:   ___\n",
        "\n",
        "Q1.2: Which category has the largest average intensity value in testing data:   ___"
      ]
    },
    {
      "cell_type": "code",
      "source": [
        "import numpy as np\n",
        "import pandas as pd\n",
        "import matplotlib.pyplot as plt"
      ],
      "metadata": {
        "id": "mpK1TjaaB0uv"
      },
      "execution_count": 4,
      "outputs": []
    },
    {
      "cell_type": "code",
      "source": [
        "## Read data\n",
        "from sklearn.datasets import fetch_openml\n",
        "mnist = fetch_openml('Fashion-MNIST', version=1)\n",
        "mnist.target = mnist.target.astype(np.int32)\n"
      ],
      "metadata": {
        "colab": {
          "base_uri": "https://localhost:8080/"
        },
        "id": "Ql1T9B4pCNJA",
        "outputId": "8d7a76bb-bca9-46b8-fadc-ef2e083b8576"
      },
      "execution_count": 5,
      "outputs": [
        {
          "output_type": "stream",
          "name": "stderr",
          "text": [
            "/usr/local/lib/python3.10/dist-packages/sklearn/datasets/_openml.py:968: FutureWarning: The default value of `parser` will change from `'liac-arff'` to `'auto'` in 1.4. You can set `parser='auto'` to silence this warning. Therefore, an `ImportError` will be raised from 1.4 if the dataset is dense and pandas is not installed. Note that the pandas parser may return different data types. See the Notes Section in fetch_openml's API doc for details.\n",
            "  warn(\n"
          ]
        }
      ]
    },
    {
      "cell_type": "code",
      "source": [
        "from sklearn.model_selection import train_test_split\n",
        "X_tr, X_te, Y_tr, Y_te  = train_test_split(mnist.data, mnist.target, random_state=42)"
      ],
      "metadata": {
        "id": "s9zZl1M4CycH"
      },
      "execution_count": 6,
      "outputs": []
    },
    {
      "cell_type": "code",
      "source": [
        "X_tr = np.array(X_tr)\n",
        "X_te = np.array(X_te)\n",
        "Y_tr = np.array(Y_tr)\n",
        "Y_te = np.array(Y_te)"
      ],
      "metadata": {
        "id": "3iYQsQLUFqKu"
      },
      "execution_count": 7,
      "outputs": []
    },
    {
      "cell_type": "code",
      "source": [
        "## Select 100 samples for each category from training data\n",
        "sel_ind = []\n",
        "NUM_SEL = 100\n",
        "list_cat = np.unique(Y_tr)\n",
        "num_cat = list_cat.shape[0]\n",
        "for tmp_cat in list_cat:\n",
        "  sel_tmp = list(np.where(Y_tr == tmp_cat)[0])\n",
        "  sel_ind = sel_ind + sel_tmp[0: NUM_SEL]\n",
        "sel_ind = np.sort(sel_ind)\n",
        "\n",
        "X2_tr = X_tr[sel_ind, :]\n",
        "Y2_tr = Y_tr[sel_ind]"
      ],
      "metadata": {
        "id": "_-GHuH05DBT6"
      },
      "execution_count": 8,
      "outputs": []
    },
    {
      "cell_type": "code",
      "source": [
        "## Select 100 samples for each category from testing data\n",
        "sel_ind = []\n",
        "NUM_SEL = 100\n",
        "list_cat = np.unique(Y_tr)\n",
        "num_cat = list_cat.shape[0]\n",
        "for tmp_cat in list_cat:\n",
        "  sel_tmp = list(np.where(Y_te == tmp_cat)[0])\n",
        "  sel_ind = sel_ind + sel_tmp[0: NUM_SEL]\n",
        "sel_ind = np.sort(sel_ind)\n",
        "\n",
        "X2_te = X_te[sel_ind, :]\n",
        "Y2_te = Y_te[sel_ind]"
      ],
      "metadata": {
        "id": "b0quMSiEQhdg"
      },
      "execution_count": 9,
      "outputs": []
    },
    {
      "cell_type": "code",
      "source": [
        "## Check selected labels\n",
        "print(np.unique(Y2_tr, return_counts=True))\n",
        "print(X2_tr.shape)\n",
        "print(Y2_tr.shape)"
      ],
      "metadata": {
        "colab": {
          "base_uri": "https://localhost:8080/"
        },
        "id": "rR71FjaHFjbD",
        "outputId": "1a5f3fd3-73fe-4a54-9531-25c64f063e7a"
      },
      "execution_count": 10,
      "outputs": [
        {
          "output_type": "stream",
          "name": "stdout",
          "text": [
            "(array([0, 1, 2, 3, 4, 5, 6, 7, 8, 9], dtype=int32), array([100, 100, 100, 100, 100, 100, 100, 100, 100, 100]))\n",
            "(1000, 784)\n",
            "(1000,)\n"
          ]
        }
      ]
    },
    {
      "cell_type": "code",
      "source": [
        "## Create a numpy matrix named mat_avg\n",
        "mat_avg = np.zeros([num_cat, 2])"
      ],
      "metadata": {
        "id": "D4cOQlceGpaG"
      },
      "execution_count": 11,
      "outputs": []
    },
    {
      "cell_type": "code",
      "source": [
        "for i, tmp_cat in enumerate(list_cat):\n",
        "  sel_tmp = X_tr[Y_tr==tmp_cat, :]\n",
        "  mean_tmp = sel_tmp.mean()\n",
        "  mat_avg[i, 0] = mean_tmp\n",
        "print(mat_avg)"
      ],
      "metadata": {
        "colab": {
          "base_uri": "https://localhost:8080/"
        },
        "id": "nm5gQH-TG7Q7",
        "outputId": "9e7204a3-532d-43bd-c5aa-b34065afa6d7"
      },
      "execution_count": 12,
      "outputs": [
        {
          "output_type": "stream",
          "name": "stdout",
          "text": [
            "[[83.12113446  0.        ]\n",
            " [57.03558168  0.        ]\n",
            " [95.91654923  0.        ]\n",
            " [66.31442038  0.        ]\n",
            " [98.46005254  0.        ]\n",
            " [35.01927473  0.        ]\n",
            " [84.75873968  0.        ]\n",
            " [42.82979443  0.        ]\n",
            " [89.96690849  0.        ]\n",
            " [76.78498706  0.        ]]\n"
          ]
        }
      ]
    },
    {
      "cell_type": "markdown",
      "source": [
        "## List Categories\n",
        "0 T-shirt/top\n",
        "1 Trouser\n",
        "2 Pullover\n",
        "3 Dress\n",
        "4 Coat\n",
        "5 Sandal\n",
        "6 Shirt\n",
        "7 Sneaker\n",
        "8 Bag\n",
        "9 Ankle boot"
      ],
      "metadata": {
        "id": "f2HXtRNCJ16u"
      }
    },
    {
      "cell_type": "code",
      "source": [
        "cat_names = ['T-shirt/top', 'Trouser', 'Pullover', 'Dress', 'Coat', 'Sandal', 'Shirt', 'Sneaker', 'Bag', 'Ankle boot']"
      ],
      "metadata": {
        "id": "nUocUN7s6FgE"
      },
      "execution_count": 40,
      "outputs": []
    },
    {
      "cell_type": "markdown",
      "source": [],
      "metadata": {
        "id": "xVzHti_AJzx2"
      }
    },
    {
      "cell_type": "markdown",
      "metadata": {
        "id": "KiVYXbanBsSI"
      },
      "source": [
        "### S2: Finding the average image\n",
        "- Find and display a single average image of all shoes (categories 'Sandal', 'Sneaker', 'Ankle boot') in training and testing data (use the smaller sample you created)"
      ]
    },
    {
      "cell_type": "code",
      "source": [
        "## Create an \"average image\" for each category\n",
        "mat_avg_img = np.zeros([num_cat, X2_tr.shape[1]])\n",
        "for i, tmp_cat in enumerate(list_cat):\n",
        "  sel_tmp = X2_tr[Y2_tr==tmp_cat, :]\n",
        "  mean_tmp = sel_tmp.mean(axis=0)\n",
        "  mat_avg_img[i, :] = mean_tmp\n",
        "print(mat_avg_img.shape)"
      ],
      "metadata": {
        "colab": {
          "base_uri": "https://localhost:8080/"
        },
        "id": "GzgTHkO3G6cl",
        "outputId": "461ad37a-9524-4d46-81db-10c31a8332cf"
      },
      "execution_count": 13,
      "outputs": [
        {
          "output_type": "stream",
          "name": "stdout",
          "text": [
            "(10, 784)\n"
          ]
        }
      ]
    },
    {
      "cell_type": "code",
      "source": [
        "## Show an average image\n",
        "import matplotlib.pyplot as plt\n",
        "\n",
        "tmp_cat = 2\n",
        "tmp_img = mat_avg_img[tmp_cat, :].reshape(28,28)\n",
        "plt.imshow(tmp_img, cmap='gray')"
      ],
      "metadata": {
        "id": "mnu-uuk1KLPl",
        "colab": {
          "base_uri": "https://localhost:8080/",
          "height": 447
        },
        "outputId": "f1951c10-8dd9-48f6-b23a-6788ece87dfe"
      },
      "execution_count": 14,
      "outputs": [
        {
          "output_type": "execute_result",
          "data": {
            "text/plain": [
              "<matplotlib.image.AxesImage at 0x7fc54231b160>"
            ]
          },
          "metadata": {},
          "execution_count": 14
        },
        {
          "output_type": "display_data",
          "data": {
            "text/plain": [
              "<Figure size 640x480 with 1 Axes>"
            ],
            "image/png": "[encoded data removed]"
          },
          "metadata": {}
        }
      ]
    },
    {
      "cell_type": "code",
      "source": [
        "## Create an \"average image\" for all shoes\n",
        "list_shoe_cat = [5, 7, 9]\n",
        "ind_shoes = np.where(np.isin(Y2_tr, list_shoe_cat) == True)[0]"
      ],
      "metadata": {
        "id": "qAdOQZHmKmrw"
      },
      "execution_count": 15,
      "outputs": []
    },
    {
      "cell_type": "code",
      "source": [
        "ind_shoes.shape"
      ],
      "metadata": {
        "colab": {
          "base_uri": "https://localhost:8080/"
        },
        "id": "MUXvNcEKCuAn",
        "outputId": "e9fbf4fb-e130-4989-fa14-e0881bb3b0f4"
      },
      "execution_count": 16,
      "outputs": [
        {
          "output_type": "execute_result",
          "data": {
            "text/plain": [
              "(300,)"
            ]
          },
          "metadata": {},
          "execution_count": 16
        }
      ]
    },
    {
      "cell_type": "code",
      "source": [
        "shoe_img_mat = X2_tr[ind_shoes, :]\n",
        "shoe_img_avg = shoe_img_mat.mean(axis=0)\n",
        "shoe_img_avg_2d = shoe_img_avg.reshape(28,28)\n",
        "plt.imshow(shoe_img_avg_2d, cmap='gray')"
      ],
      "metadata": {
        "colab": {
          "base_uri": "https://localhost:8080/",
          "height": 447
        },
        "id": "gnojU-R6LT77",
        "outputId": "31a64828-7aa2-4936-ac98-eb0adbc93624"
      },
      "execution_count": 17,
      "outputs": [
        {
          "output_type": "execute_result",
          "data": {
            "text/plain": [
              "<matplotlib.image.AxesImage at 0x7fc5424a27d0>"
            ]
          },
          "metadata": {},
          "execution_count": 17
        },
        {
          "output_type": "display_data",
          "data": {
            "text/plain": [
              "<Figure size 640x480 with 1 Axes>"
            ],
            "image/png": "[encoded data removed]"
          },
          "metadata": {}
        }
      ]
    },
    {
      "cell_type": "markdown",
      "metadata": {
        "id": "df1DL9qZBsSJ"
      },
      "source": [
        "### S3: Image distances\n",
        "In the training set, find the shoe image that is most dissimilar from the mean shoe image. Show it as a 2D image\n",
        "In the training set, find the shoe image that is most similar from the mean shoe image. Show it as a 2D image\n",
        "Do the same for the testing set\n",
        "Hint: You can use the \"euclidean distance\" as your similarity metric. Given that an image i is represented with a flattened feature vector v_i , and the second image j with v_m, the distance between these two images can be calculated using the vector norm of their differences ( | v_i - v_j | )\n",
        "\n",
        "Q3.1: What is the index of most similar shoe image in the training set: ___\n",
        "\n",
        "Q3.2: What is the index of most dissimilar shoe image in the training set: ___\n",
        "\n",
        "Q3.1: What is the index of most dissimilar shoe image in the testing set: ___\n"
      ]
    },
    {
      "cell_type": "code",
      "source": [
        "## Create an array to keep distance to average shoe image\n",
        "num_img = shoe_img_mat.shape[0]\n",
        "mat_dist = np.zeros([num_img])"
      ],
      "metadata": {
        "id": "GfT09SJ4MloG"
      },
      "execution_count": 18,
      "outputs": []
    },
    {
      "cell_type": "code",
      "source": [
        "for i in np.arange(0, num_img):\n",
        "  dist_tmp = np.linalg.norm(shoe_img_mat[i,:] - shoe_img_avg)\n",
        "  mat_dist[i] = dist_tmp"
      ],
      "metadata": {
        "id": "rh_Ye033NGah"
      },
      "execution_count": 19,
      "outputs": []
    },
    {
      "cell_type": "code",
      "source": [
        "mat_dist.argsort()"
      ],
      "metadata": {
        "colab": {
          "base_uri": "https://localhost:8080/"
        },
        "id": "ekiXmRowPd9R",
        "outputId": "b70b1db9-e949-47ec-eff3-fe05f9fdba4a"
      },
      "execution_count": 20,
      "outputs": [
        {
          "output_type": "execute_result",
          "data": {
            "text/plain": [
              "array([229, 122,  27, 233,  67,  87, 150, 158, 102,  32,  40, 118, 160,\n",
              "       172, 257,  85,  70, 149, 220,  78,  59, 108,  49, 248,  38, 255,\n",
              "        68, 143, 124, 179, 231, 236, 262,   3, 162, 181, 155,  12,  97,\n",
              "       195, 271,  35,  52, 157,  90, 200, 293, 254, 177, 145, 194, 163,\n",
              "        80, 213, 190, 107, 289, 126, 291, 146,  29, 253, 203,  71, 221,\n",
              "       273,  81, 138, 212,  84,  19,  30,  37, 207, 230, 165,  75, 260,\n",
              "       214,   6, 256,  57, 209,  31, 116,  15, 112, 127, 197, 164, 128,\n",
              "       174, 120,  47, 134, 136, 103,  74,  89,  58, 243, 252,  66, 226,\n",
              "       240, 232, 169, 119,  77,  99, 282, 184, 292, 170,  92, 133, 251,\n",
              "        65,  69,  10, 239,  54, 294,  83,  26,  34, 189, 111, 290, 246,\n",
              "       192,  63, 205,  64, 182,  91, 283, 129, 210, 153, 105, 237, 101,\n",
              "        93, 188, 187, 204, 109, 142,  43, 247,  51, 218,  28, 104, 227,\n",
              "       284, 137, 259,  24, 114,  55, 266,  44, 281,  23,  73, 199, 140,\n",
              "       148, 191, 147, 270, 135, 228, 154,   5, 123,  14, 295, 161, 156,\n",
              "        48,  98, 234, 265,  94,  17,  60,  96, 296, 130,  72,  82,  22,\n",
              "       193, 287, 297, 198, 249, 125, 224, 299, 144,  39, 171, 167, 215,\n",
              "       178,  20, 208, 280,   0, 206, 131, 196, 141, 274,  50, 235, 132,\n",
              "        41,   2, 277, 272, 286, 168,  46, 110,  16, 245,  13, 238, 285,\n",
              "       185, 288,  36, 268,  95, 183, 258, 278, 276,  79,  11, 225, 152,\n",
              "        56, 242, 216, 113, 100,  25, 115, 106,  33,   7, 250, 173, 264,\n",
              "       279,  76, 261, 151, 223, 241, 121,  86, 117,   1,  21, 267, 159,\n",
              "       166, 180, 298, 186, 219, 269, 275, 263, 222,  18, 139,  42,   8,\n",
              "       211, 201, 244, 202,   9,  45,   4, 217, 176,  88, 175,  61,  53,\n",
              "        62])"
            ]
          },
          "metadata": {},
          "execution_count": 20
        }
      ]
    },
    {
      "cell_type": "code",
      "source": [
        "## Find most/least similar images\n",
        "ind_min_dist = mat_dist.argsort()[0]\n",
        "ind_max_dist = mat_dist.argsort()[-1]\n",
        "ind_min_dist"
      ],
      "metadata": {
        "colab": {
          "base_uri": "https://localhost:8080/"
        },
        "id": "LRXMVemfPutn",
        "outputId": "4ee61a4c-a70a-4a2d-de7a-f65dd94fb03d"
      },
      "execution_count": 21,
      "outputs": [
        {
          "output_type": "execute_result",
          "data": {
            "text/plain": [
              "229"
            ]
          },
          "metadata": {},
          "execution_count": 21
        }
      ]
    },
    {
      "cell_type": "code",
      "source": [
        "## Show images\n",
        "fig, axes = plt.subplots(1, 3)\n",
        "axes[0].imshow(shoe_img_avg_2d, cmap='gray')\n",
        "axes[1].imshow(shoe_img_mat[ind_min_dist].reshape(28,28), cmap='gray')\n",
        "axes[2].imshow(shoe_img_mat[ind_max_dist].reshape(28,28), cmap='gray')"
      ],
      "metadata": {
        "colab": {
          "base_uri": "https://localhost:8080/",
          "height": 226
        },
        "id": "8jZyR5kLONNq",
        "outputId": "2477ea68-7285-42b7-9479-96a3bfc07a61"
      },
      "execution_count": 22,
      "outputs": [
        {
          "output_type": "execute_result",
          "data": {
            "text/plain": [
              "<matplotlib.image.AxesImage at 0x7fc542479390>"
            ]
          },
          "metadata": {},
          "execution_count": 22
        },
        {
          "output_type": "display_data",
          "data": {
            "text/plain": [
              "<Figure size 640x480 with 3 Axes>"
            ],
            "image/png": "[encoded data removed]"
          },
          "metadata": {}
        }
      ]
    },
    {
      "cell_type": "markdown",
      "metadata": {
        "id": "HlhkP_FPBsSJ"
      },
      "source": [
        "### S4: Train a classifier to differentiate shoes from no-shoes\n",
        "- Create new labels for train and test images as shoes (1) or no-shoes (0)\n",
        "- Train 2 different classifiers on the training set (SVM and Random Forest). Apply the classifiers on the testing data\n",
        "- Display the confusion matrix of each classifier\n",
        "- Display 4 images that are mis-classified as shoes by each classifier\n",
        "\n",
        "Q1.1: What is the testing accuracy of each classifier:   ___\n",
        "\n",
        "Q1.2: What is the category (original label) that is most frequently mis-classified as a shoe:   ___\n",
        "\n",
        "Q1.3: What is the category (original label) that is most frequently mis-classified as a non-shoe:   ___\n"
      ]
    },
    {
      "cell_type": "code",
      "source": [
        "## All classes classifier\n",
        "\n",
        "from sklearn import svm\n",
        "\n",
        "# Create the svm classifier\n",
        "clf = svm.SVC(kernel='linear') # Linear Kernel\n",
        "\n",
        "# Train the model\n",
        "clf.fit(X2_tr, Y2_tr)\n",
        "\n",
        "# Predict the label\n",
        "y_pred = clf.predict(X2_te)"
      ],
      "metadata": {
        "id": "2M41M5HnQNeW"
      },
      "execution_count": 51,
      "outputs": []
    },
    {
      "cell_type": "code",
      "source": [
        "from sklearn import metrics\n",
        "print('Accuracy: ', metrics.accuracy_score(Y2_te, y_pred))"
      ],
      "metadata": {
        "colab": {
          "base_uri": "https://localhost:8080/"
        },
        "id": "UTCVa7wrQvVM",
        "outputId": "09d975f2-5cb3-462f-b763-9f1801181903"
      },
      "execution_count": 52,
      "outputs": [
        {
          "output_type": "stream",
          "name": "stdout",
          "text": [
            "Accuracy:  0.793\n"
          ]
        }
      ]
    },
    {
      "cell_type": "code",
      "source": [
        "## Confusion matrix\n",
        "from sklearn.metrics import confusion_matrix\n",
        "confusion_matrix(Y2_te, y_pred)"
      ],
      "metadata": {
        "colab": {
          "base_uri": "https://localhost:8080/"
        },
        "id": "NytjNbzN72C-",
        "outputId": "47035aa4-49ff-4efe-ecbb-d1c0fca774ec"
      },
      "execution_count": 54,
      "outputs": [
        {
          "output_type": "execute_result",
          "data": {
            "text/plain": [
              "array([[84,  0,  0,  1,  0,  0, 15,  0,  0,  0],\n",
              "       [ 3, 93,  2,  1,  0,  0,  0,  0,  1,  0],\n",
              "       [ 3,  0, 74,  0, 15,  0,  7,  0,  1,  0],\n",
              "       [ 9,  6,  0, 79,  3,  0,  3,  0,  0,  0],\n",
              "       [ 0,  0, 15,  6, 64,  0, 15,  0,  0,  0],\n",
              "       [ 0,  0,  0,  2,  0, 87,  0,  6,  1,  4],\n",
              "       [20,  0, 18,  1, 11,  0, 48,  0,  2,  0],\n",
              "       [ 0,  0,  0,  0,  0,  5,  0, 90,  0,  5],\n",
              "       [ 4,  0,  1,  0,  1,  2,  0,  2, 90,  0],\n",
              "       [ 0,  0,  0,  1,  0,  4,  1,  8,  2, 84]])"
            ]
          },
          "metadata": {},
          "execution_count": 54
        }
      ]
    },
    {
      "cell_type": "code",
      "source": [
        "Y2_shoe_tr = np.isin(Y2_tr, list_shoe_cat).astype(int)\n",
        "Y2_shoe_te = np.isin(Y2_te, list_shoe_cat).astype(int)\n"
      ],
      "metadata": {
        "id": "2sD0zswo2rNf"
      },
      "execution_count": 28,
      "outputs": []
    },
    {
      "cell_type": "code",
      "source": [
        "## Shoes classifier\n",
        "\n",
        "## Update labels\n",
        "Y2_shoe_tr = np.isin(Y2_tr, list_shoe_cat).astype(int)\n",
        "Y2_shoe_te = np.isin(Y2_te, list_shoe_cat).astype(int)\n",
        "\n",
        "# Create the svm classifier\n",
        "clf = svm.SVC(kernel='linear') # Linear Kernel\n",
        "\n",
        "# Train the model\n",
        "clf.fit(X2_tr, Y2_shoe_tr)\n",
        "\n",
        "# Predict the label\n",
        "y_pred = clf.predict(X2_te)"
      ],
      "metadata": {
        "id": "9m1LQDL3Q7wD"
      },
      "execution_count": 30,
      "outputs": []
    },
    {
      "cell_type": "code",
      "source": [
        "from sklearn import metrics\n",
        "print('Accuracy: ', metrics.accuracy_score(Y2_shoe_te, y_pred))"
      ],
      "metadata": {
        "colab": {
          "base_uri": "https://localhost:8080/"
        },
        "id": "Fk4FEZ-63wEN",
        "outputId": "511e48fa-0813-4e45-a2b0-4d592876078f"
      },
      "execution_count": 31,
      "outputs": [
        {
          "output_type": "stream",
          "name": "stdout",
          "text": [
            "Accuracy:  0.993\n"
          ]
        }
      ]
    },
    {
      "cell_type": "code",
      "source": [
        "## Confusion matrix\n",
        "from sklearn.metrics import confusion_matrix\n",
        "confusion_matrix(Y2_shoe_te, y_pred)"
      ],
      "metadata": {
        "colab": {
          "base_uri": "https://localhost:8080/"
        },
        "id": "_yS3zPmuQ77i",
        "outputId": "d1d8572a-13e9-43c3-ebe7-fb256f68139f"
      },
      "execution_count": 32,
      "outputs": [
        {
          "output_type": "execute_result",
          "data": {
            "text/plain": [
              "array([[698,   2],\n",
              "       [  5, 295]])"
            ]
          },
          "metadata": {},
          "execution_count": 32
        }
      ]
    },
    {
      "cell_type": "code",
      "source": [
        "## Check mis-classifications (False positives)\n",
        "err1 = np.where((Y2_shoe_te==0) & (y_pred==1))[0]\n",
        "fig, axes = plt.subplots(1, err1.shape[0])\n",
        "for i in np.arange(0, err1.shape[0]):\n",
        "  axes[i].imshow(X2_te[[err1[i]]].reshape(28,28), cmap='gray')\n",
        "  axes[i].set_xlabel(cat_names[Y2_te[err1[i]]])\n"
      ],
      "metadata": {
        "colab": {
          "base_uri": "https://localhost:8080/",
          "height": 307
        },
        "id": "vPWzMpLr4VCk",
        "outputId": "2e3d01bd-e02c-4203-910f-e273506c052b"
      },
      "execution_count": 46,
      "outputs": [
        {
          "output_type": "display_data",
          "data": {
            "text/plain": [
              "<Figure size 640x480 with 2 Axes>"
            ],
            "image/png": "[encoded data removed]"
          },
          "metadata": {}
        }
      ]
    },
    {
      "cell_type": "code",
      "source": [
        "## Check mis-classifications (False positives)\n",
        "err2 = np.where((Y2_shoe_te==1) & (y_pred==0))[0]\n",
        "fig, axes = plt.subplots(1, err2.shape[0])\n",
        "for i in np.arange(0, err2.shape[0]):\n",
        "  axes[i].imshow(X2_te[[err2[i]]].reshape(28,28), cmap='gray')\n",
        "  axes[i].set_xlabel(cat_names[y_pred[err2[i]]])\n"
      ],
      "metadata": {
        "colab": {
          "base_uri": "https://localhost:8080/",
          "height": 169
        },
        "id": "YJntWt5X7Zpy",
        "outputId": "b21ac3de-c0a3-44e0-941b-0009b0e2dbdb"
      },
      "execution_count": 49,
      "outputs": [
        {
          "output_type": "display_data",
          "data": {
            "text/plain": [
              "<Figure size 640x480 with 5 Axes>"
            ],
            "image/png": "[encoded data removed]"
          },
          "metadata": {}
        }
      ]
    },
    {
      "cell_type": "markdown",
      "metadata": {
        "id": "qmqVRmBUBsSJ"
      },
      "source": [
        "### Bonus:\n",
        "\n",
        "- In question S4 you have a chance to discard one of image categories that are part of the non-shoe set. Which category would you prefer to discard? Explain and justify with data\n"
      ]
    },
    {
      "cell_type": "code",
      "source": [],
      "metadata": {
        "id": "KaThFFhtQumd"
      },
      "execution_count": null,
      "outputs": []
    }
  ],
  "metadata": {
    "kernelspec": {
      "display_name": "Python 3 (ipykernel)",
      "language": "python",
      "name": "python3"
    },
    "language_info": {
      "codemirror_mode": {
        "name": "ipython",
        "version": 3
      },
      "file_extension": ".py",
      "mimetype": "text/x-python",
      "name": "python",
      "nbconvert_exporter": "python",
      "pygments_lexer": "ipython3",
      "version": "3.8.17"
    },
    "colab": {
      "provenance": []
    }
  },
  "nbformat": 4,
  "nbformat_minor": 0
}