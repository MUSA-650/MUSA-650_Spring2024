{
  "nbformat": 4,
  "nbformat_minor": 0,
  "metadata": {
    "colab": {
      "name": "DL_Basics1_SimpleMLP.ipynb",
      "provenance": [],
      "toc_visible": true,
      "authorship_tag": "ABX9TyMQVCCizgRohpzuXIu4P1XW",
      "include_colab_link": true
    },
    "kernelspec": {
      "name": "python3",
      "display_name": "Python 3"
    }
  },
  "cells": [
    {
      "cell_type": "markdown",
      "metadata": {
        "id": "view-in-github",
        "colab_type": "text"
      },
      "source": [
        "<a href=\"https://colab.research.google.com/github/MUSA-650/MUSA-650_Spring2024/blob/master/Week07/DL_Basics1_SimpleMLP.ipynb\" target=\"_parent\"><img src=\"https://colab.research.google.com/assets/colab-badge.svg\" alt=\"Open In Colab\"/></a>"
      ]
    },
    {
      "cell_type": "markdown",
      "metadata": {
        "id": "zH0VLogCTY6h"
      },
      "source": [
        "\n",
        "# **Simple multi-layer perceptron**\n"
      ]
    },
    {
      "cell_type": "code",
      "metadata": {
        "id": "Krf1wwypTXdp"
      },
      "source": [
        "from __future__ import print_function\n",
        "\n",
        "import keras\n",
        "from keras.datasets import mnist\n",
        "from keras.models import Sequential\n",
        "from keras.layers import Dense, Dropout\n",
        "from tensorflow.keras.optimizers import RMSprop\n",
        "import numpy as np\n",
        "from tensorflow.python.keras.utils import np_utils\n"
      ],
      "execution_count": 4,
      "outputs": []
    },
    {
      "cell_type": "markdown",
      "metadata": {
        "id": "5B0Jjh9WTWzi"
      },
      "source": [
        "**Set vars, load MNIST (hand written digits) data**"
      ]
    },
    {
      "cell_type": "code",
      "metadata": {
        "id": "AkMEx7SBajpY",
        "outputId": "9837b8f3-4fc6-4288-ade6-16c6dd2facec",
        "colab": {
          "base_uri": "https://localhost:8080/"
        }
      },
      "source": [
        "batch_size = 20000\n",
        "num_classes = 10\n",
        "epochs = 5\n",
        "\n",
        "# the data, split between train and test sets\n",
        "(x_train, y_train), (x_test, y_test) = mnist.load_data()\n"
      ],
      "execution_count": 5,
      "outputs": [
        {
          "output_type": "stream",
          "name": "stdout",
          "text": [
            "Downloading data from https://storage.googleapis.com/tensorflow/tf-keras-datasets/mnist.npz\n",
            "11490434/11490434 [==============================] - 0s 0us/step\n"
          ]
        }
      ]
    },
    {
      "cell_type": "code",
      "metadata": {
        "colab": {
          "base_uri": "https://localhost:8080/"
        },
        "id": "_ZcqDK4HVeZe",
        "outputId": "6a1f1549-4d20-409f-cc56-b57be8f1bc52"
      },
      "source": [
        "x_train.shape"
      ],
      "execution_count": 6,
      "outputs": [
        {
          "output_type": "execute_result",
          "data": {
            "text/plain": [
              "(60000, 28, 28)"
            ]
          },
          "metadata": {},
          "execution_count": 6
        }
      ]
    },
    {
      "cell_type": "code",
      "metadata": {
        "colab": {
          "base_uri": "https://localhost:8080/"
        },
        "id": "vYdbeSuHVg1I",
        "outputId": "8a5e4ae8-5ec7-48f8-845b-17bb4ba1bc6a"
      },
      "source": [
        "np.sum(y_train==8)"
      ],
      "execution_count": 7,
      "outputs": [
        {
          "output_type": "execute_result",
          "data": {
            "text/plain": [
              "5851"
            ]
          },
          "metadata": {},
          "execution_count": 7
        }
      ]
    },
    {
      "cell_type": "markdown",
      "metadata": {
        "id": "nLIcIGRhV3_f"
      },
      "source": [
        "**Visualize data**"
      ]
    },
    {
      "cell_type": "code",
      "metadata": {
        "id": "6VylhwjlVr4x",
        "colab": {
          "base_uri": "https://localhost:8080/",
          "height": 447
        },
        "outputId": "c76c8301-201a-4152-a2ac-860f01fc1730"
      },
      "source": [
        "import matplotlib.pyplot as plt\n",
        "\n",
        "plt.imshow(x_train[3890],cmap=plt.cm.binary)\n",
        "plt.show()\n",
        "x_train[0].shape\n",
        "\n",
        "print(y_train[3890])"
      ],
      "execution_count": 8,
      "outputs": [
        {
          "output_type": "display_data",
          "data": {
            "text/plain": [
              "<Figure size 640x480 with 1 Axes>"
            ],
            "image/png": "[encoded data removed]"
          },
          "metadata": {}
        },
        {
          "output_type": "stream",
          "name": "stdout",
          "text": [
            "2\n"
          ]
        }
      ]
    },
    {
      "cell_type": "code",
      "metadata": {
        "id": "tmEmkBfZVhou",
        "colab": {
          "base_uri": "https://localhost:8080/"
        },
        "outputId": "b7da0277-198e-4f01-e0c0-67c35dd66dc0"
      },
      "source": [
        "x_train = x_train.reshape(60000, 784)\n",
        "x_test = x_test.reshape(10000, 784)\n",
        "x_train = x_train.astype('float32')\n",
        "x_test = x_test.astype('float32')\n",
        "x_train /= 255\n",
        "x_test /= 255\n",
        "print(x_train.shape[0], 'train samples')\n",
        "print(x_test.shape[0], 'test samples')\n",
        "\n",
        "y_train[0:20]"
      ],
      "execution_count": 9,
      "outputs": [
        {
          "output_type": "stream",
          "name": "stdout",
          "text": [
            "60000 train samples\n",
            "10000 test samples\n"
          ]
        },
        {
          "output_type": "execute_result",
          "data": {
            "text/plain": [
              "array([5, 0, 4, 1, 9, 2, 1, 3, 1, 4, 3, 5, 3, 6, 1, 7, 2, 8, 6, 9],\n",
              "      dtype=uint8)"
            ]
          },
          "metadata": {},
          "execution_count": 9
        }
      ]
    },
    {
      "cell_type": "code",
      "metadata": {
        "id": "BBn9ZkA6p5C4",
        "colab": {
          "base_uri": "https://localhost:8080/"
        },
        "outputId": "0c6210db-bf54-4f3f-a8cd-fb0f4be3fa18"
      },
      "source": [
        "y_train.shape"
      ],
      "execution_count": 10,
      "outputs": [
        {
          "output_type": "execute_result",
          "data": {
            "text/plain": [
              "(60000,)"
            ]
          },
          "metadata": {},
          "execution_count": 10
        }
      ]
    },
    {
      "cell_type": "code",
      "metadata": {
        "id": "7hAU2yCAarX6",
        "colab": {
          "base_uri": "https://localhost:8080/"
        },
        "outputId": "724df943-6889-42cb-9309-5eb69f31f471"
      },
      "source": [
        "# convert class vectors to binary class matrices\n",
        "y_train = np_utils.to_categorical(y_train, num_classes)\n",
        "y_test = np_utils.to_categorical(y_test, num_classes)\n",
        "\n",
        "y_train.shape"
      ],
      "execution_count": 13,
      "outputs": [
        {
          "output_type": "execute_result",
          "data": {
            "text/plain": [
              "(60000, 10)"
            ]
          },
          "metadata": {},
          "execution_count": 13
        }
      ]
    },
    {
      "cell_type": "code",
      "metadata": {
        "id": "QktvqwX-qA7A",
        "colab": {
          "base_uri": "https://localhost:8080/"
        },
        "outputId": "c201f5b5-abe2-4763-af79-0b6655850f22"
      },
      "source": [
        "y_train[0:20,:]"
      ],
      "execution_count": 14,
      "outputs": [
        {
          "output_type": "execute_result",
          "data": {
            "text/plain": [
              "array([[0., 0., 0., 0., 0., 1., 0., 0., 0., 0.],\n",
              "       [1., 0., 0., 0., 0., 0., 0., 0., 0., 0.],\n",
              "       [0., 0., 0., 0., 1., 0., 0., 0., 0., 0.],\n",
              "       [0., 1., 0., 0., 0., 0., 0., 0., 0., 0.],\n",
              "       [0., 0., 0., 0., 0., 0., 0., 0., 0., 1.],\n",
              "       [0., 0., 1., 0., 0., 0., 0., 0., 0., 0.],\n",
              "       [0., 1., 0., 0., 0., 0., 0., 0., 0., 0.],\n",
              "       [0., 0., 0., 1., 0., 0., 0., 0., 0., 0.],\n",
              "       [0., 1., 0., 0., 0., 0., 0., 0., 0., 0.],\n",
              "       [0., 0., 0., 0., 1., 0., 0., 0., 0., 0.],\n",
              "       [0., 0., 0., 1., 0., 0., 0., 0., 0., 0.],\n",
              "       [0., 0., 0., 0., 0., 1., 0., 0., 0., 0.],\n",
              "       [0., 0., 0., 1., 0., 0., 0., 0., 0., 0.],\n",
              "       [0., 0., 0., 0., 0., 0., 1., 0., 0., 0.],\n",
              "       [0., 1., 0., 0., 0., 0., 0., 0., 0., 0.],\n",
              "       [0., 0., 0., 0., 0., 0., 0., 1., 0., 0.],\n",
              "       [0., 0., 1., 0., 0., 0., 0., 0., 0., 0.],\n",
              "       [0., 0., 0., 0., 0., 0., 0., 0., 1., 0.],\n",
              "       [0., 0., 0., 0., 0., 0., 1., 0., 0., 0.],\n",
              "       [0., 0., 0., 0., 0., 0., 0., 0., 0., 1.]], dtype=float32)"
            ]
          },
          "metadata": {},
          "execution_count": 14
        }
      ]
    },
    {
      "cell_type": "markdown",
      "metadata": {
        "id": "A6fsLFNuToGT"
      },
      "source": [
        "**Model description**\n",
        "\n",
        "- Put the \"lego blocks\" together\n"
      ]
    },
    {
      "cell_type": "code",
      "metadata": {
        "id": "da2g0aUtasqZ",
        "colab": {
          "base_uri": "https://localhost:8080/"
        },
        "outputId": "3a162939-0b3e-470c-b7c9-d4c211bb4ab5"
      },
      "source": [
        "model = Sequential()\n",
        "model.add(Dense(512, activation='relu', input_shape=(784,)))\n",
        "#model.add(Dropout(0.2))\n",
        "#model.add(Dense(512, activation='relu'))\n",
        "#model.add(Dropout(0.2))\n",
        "model.add(Dense(num_classes, activation='softmax'))\n",
        "\n",
        "model.summary()"
      ],
      "execution_count": 15,
      "outputs": [
        {
          "output_type": "stream",
          "name": "stdout",
          "text": [
            "Model: \"sequential\"\n",
            "_________________________________________________________________\n",
            " Layer (type)                Output Shape              Param #   \n",
            "=================================================================\n",
            " dense (Dense)               (None, 512)               401920    \n",
            "                                                                 \n",
            " dense_1 (Dense)             (None, 10)                5130      \n",
            "                                                                 \n",
            "=================================================================\n",
            "Total params: 407050 (1.55 MB)\n",
            "Trainable params: 407050 (1.55 MB)\n",
            "Non-trainable params: 0 (0.00 Byte)\n",
            "_________________________________________________________________\n"
          ]
        }
      ]
    },
    {
      "cell_type": "markdown",
      "metadata": {
        "id": "rhe2oZUrT22k"
      },
      "source": [
        "**Visualization of the model**"
      ]
    },
    {
      "cell_type": "code",
      "metadata": {
        "id": "jKNUlY_qR-wR",
        "colab": {
          "base_uri": "https://localhost:8080/",
          "height": 312
        },
        "outputId": "0cb1351a-910c-429a-d71b-bf3a62997ab8"
      },
      "source": [
        "from tensorflow.keras.utils import plot_model\n",
        "\n",
        "#plot_model(model, to_file='model_plot.png', show_shapes=True, show_layer_names=True)\n",
        "plot_model(model, show_shapes=True, show_layer_names=True)"
      ],
      "execution_count": 18,
      "outputs": [
        {
          "output_type": "execute_result",
          "data": {
            "image/png": "[encoded data removed]",
            "text/plain": [
              "<IPython.core.display.Image object>"
            ]
          },
          "metadata": {},
          "execution_count": 18
        }
      ]
    },
    {
      "cell_type": "markdown",
      "metadata": {
        "id": "wxr8cUXYUMFG"
      },
      "source": [
        "**Compile the model**"
      ]
    },
    {
      "cell_type": "code",
      "metadata": {
        "id": "9wfzDgzIavDY"
      },
      "source": [
        "model.compile(loss='categorical_crossentropy',\n",
        "              optimizer=RMSprop(),\n",
        "              metrics=['accuracy'])"
      ],
      "execution_count": 19,
      "outputs": []
    },
    {
      "cell_type": "markdown",
      "metadata": {
        "id": "GDsuGn2wUUkl"
      },
      "source": [
        "**Fit the model**"
      ]
    },
    {
      "cell_type": "code",
      "metadata": {
        "id": "rIMwjczibWT1",
        "colab": {
          "base_uri": "https://localhost:8080/"
        },
        "outputId": "1b9346d9-83ea-4430-bd0a-258cbf8adcb8"
      },
      "source": [
        "history = model.fit(x_train, y_train,\n",
        "                    batch_size=batch_size,\n",
        "                    epochs=10,\n",
        "                    verbose=1,\n",
        "                    validation_data=(x_test, y_test))"
      ],
      "execution_count": 21,
      "outputs": [
        {
          "output_type": "stream",
          "name": "stdout",
          "text": [
            "Epoch 1/10\n",
            "3/3 [==============================] - 2s 733ms/step - loss: 0.4299 - accuracy: 0.8818 - val_loss: 0.3958 - val_accuracy: 0.8940\n",
            "Epoch 2/10\n",
            "3/3 [==============================] - 2s 837ms/step - loss: 0.3987 - accuracy: 0.8932 - val_loss: 0.3680 - val_accuracy: 0.9031\n",
            "Epoch 3/10\n",
            "3/3 [==============================] - 3s 1s/step - loss: 0.3872 - accuracy: 0.8956 - val_loss: 0.3814 - val_accuracy: 0.8890\n",
            "Epoch 4/10\n",
            "3/3 [==============================] - 3s 935ms/step - loss: 0.3963 - accuracy: 0.8823 - val_loss: 0.3555 - val_accuracy: 0.9027\n",
            "Epoch 5/10\n",
            "3/3 [==============================] - 2s 755ms/step - loss: 0.3550 - accuracy: 0.9022 - val_loss: 0.3255 - val_accuracy: 0.9112\n",
            "Epoch 6/10\n",
            "3/3 [==============================] - 2s 724ms/step - loss: 0.3350 - accuracy: 0.9081 - val_loss: 0.3171 - val_accuracy: 0.9165\n",
            "Epoch 7/10\n",
            "3/3 [==============================] - 2s 759ms/step - loss: 0.3364 - accuracy: 0.9061 - val_loss: 0.3345 - val_accuracy: 0.9046\n",
            "Epoch 8/10\n",
            "3/3 [==============================] - 2s 782ms/step - loss: 0.3335 - accuracy: 0.9053 - val_loss: 0.3042 - val_accuracy: 0.9176\n",
            "Epoch 9/10\n",
            "3/3 [==============================] - 3s 1s/step - loss: 0.3085 - accuracy: 0.9138 - val_loss: 0.2895 - val_accuracy: 0.9201\n",
            "Epoch 10/10\n",
            "3/3 [==============================] - 2s 811ms/step - loss: 0.3043 - accuracy: 0.9148 - val_loss: 0.3062 - val_accuracy: 0.9086\n"
          ]
        }
      ]
    },
    {
      "cell_type": "markdown",
      "metadata": {
        "id": "59yzdghjUYz-"
      },
      "source": [
        "**Evaluate the model**"
      ]
    },
    {
      "cell_type": "code",
      "metadata": {
        "id": "i1rvdGORa0fI",
        "colab": {
          "base_uri": "https://localhost:8080/"
        },
        "outputId": "d161c742-8126-4b51-a929-d173a4729b8b"
      },
      "source": [
        "score = model.evaluate(x_test, y_test, verbose=0)\n",
        "print('Test loss:', score[0])\n",
        "print('Test accuracy:', score[1])"
      ],
      "execution_count": 22,
      "outputs": [
        {
          "output_type": "stream",
          "name": "stdout",
          "text": [
            "Test loss: 0.3061864972114563\n",
            "Test accuracy: 0.9085999727249146\n"
          ]
        }
      ]
    },
    {
      "cell_type": "code",
      "source": [],
      "metadata": {
        "id": "rmQU-sO2-3iJ"
      },
      "execution_count": null,
      "outputs": []
    }
  ]
}