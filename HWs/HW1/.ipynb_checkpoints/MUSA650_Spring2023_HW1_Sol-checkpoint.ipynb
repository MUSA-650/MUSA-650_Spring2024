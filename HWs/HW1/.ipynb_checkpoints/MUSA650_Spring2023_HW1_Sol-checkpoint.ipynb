{
  "cells": [
    {
      "cell_type": "markdown",
      "metadata": {
        "id": "ctxfpXLwzIFf"
      },
      "source": [
        "## HW1 - Basics of ML\n",
        "Include your code in the relevant cells below.\n",
        "Subparts labeled as questions (Q1.1, Q1.2, etc.) should have their answers filled in or plots placed prominently, as appropriate."
      ]
    },
    {
      "cell_type": "markdown",
      "metadata": {
        "id": "Y3JkhtmuzIFh"
      },
      "source": [
        "#### Important notes: \n",
        "\n",
        "1. On this and future homeworks, depending on the data size and your hardware configuration, experiments may take too long if you use the complete dataset. This may be challenging, as you may need to run multiple experiments. So, if an experiment takes too much time, start first with a smaller sample that will allow you to run your code within a reasonable time. Once you complete all tasks, before the final submission, you can allow longer run times and run your code with the complete set. However, if this is still taking too much time or causing your computer to freeze, it will be OK to submit experiments using a sample size that is feasible for your setting (indicate it clearly in your submission). Grading of the homework will not be affected from this type of variations in the design of your experiments.\n",
        "\n",
        "\n",
        "2. You can switch between 2D image data and 1D vector data using the numpy functions flatten() and resize()"
      ]
    },
    {
      "cell_type": "markdown",
      "metadata": {
        "id": "DASCSh47zIFi"
      },
      "source": [
        "### S1: Understanding the data\n",
        "- Load MNIST dataset (hint it's available as part of https://keras.io/api/datasets)\n",
        "\n",
        "Q1.1: What is the number of features in the training dataset:   ___\n",
        "\n",
        "Q1.2: What is the number of samples in the training dataset:   ___\n",
        "\n",
        "Q1.1: What is the number of features in the testing dataset:   ___\n",
        "\n",
        "Q1.4: What is the number of samples in the testing dataset:   ___\n",
        "\n",
        "Q1.3: What is the dimensionality of each data sample: ___"
      ]
    },
    {
      "cell_type": "code",
      "execution_count": null,
      "metadata": {
        "id": "GtK6dcBdzIFi"
      },
      "outputs": [],
      "source": [
        "import keras\n",
        "import numpy as np\n",
        "import matplotlib.pyplot as plt\n",
        "import pandas as pd"
      ]
    },
    {
      "cell_type": "code",
      "source": [
        "from keras.datasets import mnist"
      ],
      "metadata": {
        "id": "ynjUJ-I9z89o"
      },
      "execution_count": null,
      "outputs": []
    },
    {
      "cell_type": "code",
      "source": [
        "(X_tr, Y_tr), (X_te, Y_te) = mnist.load_data()"
      ],
      "metadata": {
        "id": "lhk5c9VGzXM0"
      },
      "execution_count": null,
      "outputs": []
    },
    {
      "cell_type": "code",
      "source": [
        "print('X_tr: ' + str(X_tr.shape))\n",
        "print('Y_tr: ' + str(Y_tr.shape))\n",
        "print('X_te:  '  + str(X_te.shape))\n",
        "print('Y_te:  '  + str(Y_te.shape))"
      ],
      "metadata": {
        "colab": {
          "base_uri": "https://localhost:8080/"
        },
        "id": "tolr-fSezaQ0",
        "outputId": "754cf4d0-c536-4e04-ff73-9443d3c0cb36"
      },
      "execution_count": null,
      "outputs": [
        {
          "output_type": "stream",
          "name": "stdout",
          "text": [
            "X_tr: (60000, 28, 28)\n",
            "Y_tr: (60000,)\n",
            "X_te:  (10000, 28, 28)\n",
            "Y_te:  (10000,)\n"
          ]
        }
      ]
    },
    {
      "cell_type": "code",
      "source": [
        "print('Unique labels: ' + str(np.unique(Y_tr, return_counts=True)))"
      ],
      "metadata": {
        "colab": {
          "base_uri": "https://localhost:8080/"
        },
        "id": "Vsxkiek5zxOK",
        "outputId": "a76fccd2-bdf3-484b-efe7-8ac1d1ffbee0"
      },
      "execution_count": null,
      "outputs": [
        {
          "output_type": "stream",
          "name": "stdout",
          "text": [
            "Unique labels: (array([0, 1, 2, 3, 4, 5, 6, 7, 8, 9], dtype=uint8), array([5923, 6742, 5958, 6131, 5842, 5421, 5918, 6265, 5851, 5949]))\n"
          ]
        }
      ]
    },
    {
      "cell_type": "markdown",
      "metadata": {
        "id": "mKCD1xmkzIFj"
      },
      "source": [
        "### S2: Viewing the data\n",
        "- Select one random example from each category from the training set. Display the 2D image with the name of the category\n",
        "\n",
        "Q2.1: Visualize the example image:   ___"
      ]
    },
    {
      "cell_type": "code",
      "source": [
        "## Read categories\n",
        "labels = np.unique(Y_tr)\n",
        "\n",
        "## Create 2x5 subplot\n",
        "fig, ax = plt.subplots(nrows = 2, ncols = 5)\n",
        "\n",
        "## Loop to plot each category\n",
        "for i, tmpl in enumerate(labels):\n",
        "\n",
        "  ## Select a random image with the current label\n",
        "  indAll = np.where(Y_tr == tmpl)[0]\n",
        "  indSel = indAll[np.random.randint(indAll.shape)]\n",
        "  selImg = X_tr[indSel,:,:].squeeze()\n",
        "\n",
        "  ## Convert loop index to 2D index for the 2x5 plot\n",
        "  a1, a2 = np.unravel_index(i, [2,5])      \n",
        "  \n",
        "  ## Plot image\n",
        "  ax[a1, a2].imshow(selImg)\n",
        "  ax[a1, a2].set_title('Label ' + str(tmpl))\n",
        "\n",
        "## Show image\n",
        "plt.show()"
      ],
      "metadata": {
        "colab": {
          "base_uri": "https://localhost:8080/",
          "height": 240
        },
        "id": "cDnEoqPvzqfA",
        "outputId": "66ef9396-7141-4924-f3bf-b9517e991b1f"
      },
      "execution_count": null,
      "outputs": [
        {
          "output_type": "display_data",
          "data": {
            "text/plain": [
              "<Figure size 432x288 with 10 Axes>"
            ],
            "image/png": "[encoded data removed]"
          },
          "metadata": {
            "needs_background": "light"
          }
        }
      ]
    },
    {
      "cell_type": "markdown",
      "metadata": {
        "id": "6V9p1no0zIFk"
      },
      "source": [
        "### S3: Sub-sampling the data\n",
        "- Reduce training and testing sample sizes by **randomly selecting** %10 of the initial samples\n",
        "\n",
        "Q3.1: What is the distribution of each label in the initial train data (i.e. percentage of each label):   ___\n",
        "\n",
        "Q3.2: What is the distribution of each label in the reduced train data:   ___"
      ]
    },
    {
      "cell_type": "code",
      "source": [
        "## Randomly sample data\n",
        "def sample_data(X, Y, p):\n",
        "  ## Shuffle array indices\n",
        "  num_sample = X.shape[0]\n",
        "  ind_shuf = np.random.permutation(num_sample)\n",
        "\n",
        "  ## Select p percent of the shuffled indices\n",
        "  num_sel = int(num_sample / 100 * p )\n",
        "  ind_sel = ind_shuf[0:num_sel]\n",
        "  \n",
        "  ## Select data\n",
        "  X_out = X[ind_sel, :]\n",
        "  Y_out = Y[ind_sel]\n",
        "\n",
        "  return X_out, Y_out\n",
        "\n",
        "X_tr_sel1, Y_tr_sel1 = sample_data(X_tr, Y_tr, 1)\n",
        "X_te_sel1, Y_te_sel1 = sample_data(X_te, Y_te, 1)"
      ],
      "metadata": {
        "id": "MFCK2uoo55rP"
      },
      "execution_count": null,
      "outputs": []
    },
    {
      "cell_type": "code",
      "source": [
        "## Find number of samples for each label\n",
        "_, c1 = np.unique(Y_tr, return_counts=True)\n",
        "_, c2 = np.unique(Y_tr_sel1, return_counts=True)\n",
        "\n",
        "## Find percentage of samples for each label\n",
        "p1 = (100*c1 / Y_tr.shape[0]).reshape(1,-1)\n",
        "p2 = (100*c2 / Y_tr_sel1.shape[0]).reshape(1,-1)\n",
        "\n",
        "print(p1)\n",
        "print(p2)\n",
        "\n",
        "## or\n",
        "p12 = np.concatenate((p1, p2), axis=0)\n",
        "df = pd.DataFrame(data = p12, columns = labels, index = ['X_tr','X_tr_sel1'])\n",
        "\n",
        "df.plot.bar()\n",
        "plt.show()"
      ],
      "metadata": {
        "colab": {
          "base_uri": "https://localhost:8080/",
          "height": 370
        },
        "id": "t-fww7GJ8LDg",
        "outputId": "cf1acfdc-1108-46b5-8f09-473371278edd"
      },
      "execution_count": null,
      "outputs": [
        {
          "output_type": "stream",
          "name": "stdout",
          "text": [
            "[[ 9.87166667 11.23666667  9.93       10.21833333  9.73666667  9.035\n",
            "   9.86333333 10.44166667  9.75166667  9.915     ]]\n",
            "[[ 9.         11.33333333 10.66666667 12.          9.66666667  9.83333333\n",
            "   9.          8.83333333  8.         11.66666667]]\n"
          ]
        },
        {
          "output_type": "display_data",
          "data": {
            "text/plain": [
              "<Figure size 432x288 with 1 Axes>"
            ],
            "image/png": "[encoded data removed]"
          },
          "metadata": {
            "needs_background": "light"
          }
        }
      ]
    },
    {
      "cell_type": "markdown",
      "metadata": {
        "id": "ZMS7ZMKwzIFk"
      },
      "source": [
        "### S4: Sub-sampling the data (again)\n",
        "- Reduce training and testing sample sizes by selecting **the first** %10 of the initial samples\n",
        "\n",
        "Q4.1: What is the distribution of each label in the initial train data (i.e. percentage of each label):   ___\n",
        "\n",
        "Q4.2: What is the distribution of each label in the reduced train data:   ___\n",
        "\n",
        "Q4.3: What are your comments/interpretation on comparison of the results for S3 and S4"
      ]
    },
    {
      "cell_type": "markdown",
      "metadata": {
        "id": "rF80JiB_zIFk"
      },
      "source": [
        "#### ! For the rest of the HW, please discard sub-sampled data from S3 and use subsampled data from S4"
      ]
    },
    {
      "cell_type": "code",
      "source": [
        "## Randomly sample data\n",
        "def sample_data(X, Y, p, is_shuffle = False):\n",
        "  ## Shuffle array indices\n",
        "  num_sample = X.shape[0]\n",
        "\n",
        "  if is_shuffle == True:\n",
        "    ind_shuf = np.random.permutation(num_sample)\n",
        "  else:\n",
        "    ind_shuf = np.arange(0,num_sample)\n",
        "\n",
        "  ## Select p percent of the shuffled indices\n",
        "  num_sel = int(num_sample / 100 * p )\n",
        "  ind_sel = ind_shuf[0:num_sel]\n",
        "  \n",
        "  ## Select data\n",
        "  X_out = X[ind_sel, :]\n",
        "  Y_out = Y[ind_sel]\n",
        "\n",
        "  return X_out, Y_out\n",
        "\n",
        "X_tr_sel2, Y_tr_sel2 = sample_data(X_tr, Y_tr, 1)\n",
        "X_te_sel2, Y_te_sel2 = sample_data(X_te, Y_te, 1)"
      ],
      "metadata": {
        "id": "TOcO5elMBGLE"
      },
      "execution_count": null,
      "outputs": []
    },
    {
      "cell_type": "code",
      "source": [
        "## Find number of samples for each label\n",
        "_, c1 = np.unique(Y_tr, return_counts=True)\n",
        "_, c2 = np.unique(Y_tr_sel2, return_counts=True)\n",
        "\n",
        "## Find percentage of samples for each label\n",
        "p1 = (100*c1 / Y_tr.shape[0]).reshape(1,-1)\n",
        "p2 = (100*c2 / Y_tr_sel2.shape[0]).reshape(1,-1)\n",
        "\n",
        "print(p1)\n",
        "print(p2)\n",
        "\n",
        "## or\n",
        "p12 = np.concatenate((p1, p2), axis=0)\n",
        "df = pd.DataFrame(data = p12, columns = labels, index = ['X_tr','X_tr_sel1'])\n",
        "\n",
        "df.plot.bar()\n",
        "plt.show()"
      ],
      "metadata": {
        "colab": {
          "base_uri": "https://localhost:8080/",
          "height": 370
        },
        "id": "VmJT8htKBijj",
        "outputId": "8f8ecb04-adb2-4602-a4aa-ea353c40fb4d"
      },
      "execution_count": null,
      "outputs": [
        {
          "output_type": "stream",
          "name": "stdout",
          "text": [
            "[[ 9.87166667 11.23666667  9.93       10.21833333  9.73666667  9.035\n",
            "   9.86333333 10.44166667  9.75166667  9.915     ]]\n",
            "[[ 9.66666667 13.16666667 10.66666667  9.83333333  9.83333333  8.5\n",
            "   9.         10.33333333  8.16666667 10.83333333]]\n"
          ]
        },
        {
          "output_type": "display_data",
          "data": {
            "text/plain": [
              "<Figure size 432x288 with 1 Axes>"
            ],
            "image/png": "[encoded data removed]"
          },
          "metadata": {
            "needs_background": "light"
          }
        }
      ]
    },
    {
      "cell_type": "markdown",
      "metadata": {
        "id": "-CKsJFe3zIFl"
      },
      "source": [
        "### S5: Exploring the dataset\n",
        "- Select all **train** images in category \"3\". Create and display a single pixel-wise \"average image\" for this category.\n",
        "- Create and display a single pixel-wise \"standard deviation image\" for this category?\n",
        "- Repeat the items above for category \"3\" images in the **test** set. Compare the average and standard deviation images.\n",
        "- Repeat the items above for a different category you select.\n",
        "\n",
        "Q5.1: Plot the 2D mean and std images for category 3 in training and testing sets:   ___\n",
        "\n",
        "Q5.2: Plot the 2D mean and std images for the category you selected in training and testing sets:   ___\n",
        "\n",
        "Q5.3: Comment on differences between the mean and std images from training and testing datasets? ___"
      ]
    },
    {
      "cell_type": "code",
      "source": [
        "## Select images\n",
        "X = X_tr_sel2\n",
        "Y = Y_tr_sel2\n",
        "indAll = np.where(Y == 7)[0]\n",
        "imgAll = X[indAll, :, :]\n",
        "print('Num sel: ' + str(indAll.shape))\n",
        "print('Num img mat: ' + str(imgAll.shape))"
      ],
      "metadata": {
        "colab": {
          "base_uri": "https://localhost:8080/"
        },
        "id": "crbHYaCnBuP4",
        "outputId": "1bd06eea-f136-4289-b003-464bb5b84382"
      },
      "execution_count": null,
      "outputs": [
        {
          "output_type": "stream",
          "name": "stdout",
          "text": [
            "Num sel: (62,)\n",
            "Num img mat: (62, 28, 28)\n"
          ]
        }
      ]
    },
    {
      "cell_type": "code",
      "source": [
        "## Calculate avg img\n",
        "img_mean = np.mean(imgAll, axis = 0)\n",
        "img_mean.shape"
      ],
      "metadata": {
        "colab": {
          "base_uri": "https://localhost:8080/"
        },
        "id": "KfVBn77mCTPm",
        "outputId": "cdf597e0-af56-4862-bdd9-f8f3e57d87b8"
      },
      "execution_count": null,
      "outputs": [
        {
          "output_type": "execute_result",
          "data": {
            "text/plain": [
              "(28, 28)"
            ]
          },
          "metadata": {},
          "execution_count": 209
        }
      ]
    },
    {
      "cell_type": "code",
      "source": [
        "## Show mean img\n",
        "plt.imshow(img_mean)\n",
        "plt.show()"
      ],
      "metadata": {
        "colab": {
          "base_uri": "https://localhost:8080/",
          "height": 265
        },
        "id": "OTcv9rBZCvLD",
        "outputId": "54ec0e0f-48bc-405d-aa44-fe8df1454a96"
      },
      "execution_count": null,
      "outputs": [
        {
          "output_type": "display_data",
          "data": {
            "text/plain": [
              "<Figure size 432x288 with 1 Axes>"
            ],
            "image/png": "[encoded data removed]"
          },
          "metadata": {
            "needs_background": "light"
          }
        }
      ]
    },
    {
      "cell_type": "markdown",
      "metadata": {
        "id": "-I1-bxGZzIFl"
      },
      "source": [
        "### S6: Image distances\n",
        "- In the training set, find the image in category 3 that is most dissimilar to the mean image of category 3. Show it as a 2D image\n",
        "- In the training set, find the image in category 3 that is most similar to mean image of category 3. Show it as a 2D image\n",
        "- In the training set, find the image in category 9 that is most similar to mean image of category 3. Show it as a 2D image\n",
        "\n",
        "**Hint:** You can use the \"euclidean distance\" as your similarity metric. Given that an image i is represented with a flattened feature vector v_i , and the second image j with v_m, the distance between these two images can be calculated using the vector norm of their differences ( | v_i - v_j | ) \n",
        "\n",
        "Q6.1: What is the index of most dissimilar image in category 3:   ___\n",
        "\n",
        "Q6.2: Plot the most dissimilar category 3 image in 2D:   ___\n",
        "\n",
        "Q6.3: Plot the most similar category 3 image in 2D:   ___"
      ]
    },
    {
      "cell_type": "code",
      "source": [
        "## Find pixelwise \"distance\" of each image to the mean image\n",
        "vec_mean = img_mean.flatten() \n",
        "arr_d = np.zeros(indAll.shape[0])\n",
        "for i, ind_sel in enumerate(indAll):\n",
        "  img_sel = X[ind_sel, :, :].flatten()\n",
        "\n",
        "  d_sel = np.sqrt(np.dot(vec_mean - img_sel, vec_mean - img_sel))\n",
        "  #d_sel = np.linalg.norm(img_sel - vec_mean)\n",
        "  #d_sel = np.sqrt(np.square(img_sel - vec_mean).sum())\n",
        "\n",
        "  arr_d[i] = d_sel"
      ],
      "metadata": {
        "id": "1q3AwdDOC82X"
      },
      "execution_count": null,
      "outputs": []
    },
    {
      "cell_type": "code",
      "source": [
        "ind_similar = indAll[arr_d.argmin()]\n",
        "ind_dissimilar = indAll[arr_d.argmax()]"
      ],
      "metadata": {
        "id": "Rhc6Ejx5D5iw"
      },
      "execution_count": null,
      "outputs": []
    },
    {
      "cell_type": "code",
      "source": [
        "## Show similar / dissimilar images\n",
        "fig, ax = plt.subplots(nrows = 1, ncols = 3)\n",
        "ax[0].imshow(img_mean)\n",
        "ax[1].imshow(X[ind_similar,:,:])\n",
        "ax[2].imshow(X[ind_dissimilar,:,:])\n",
        "plt.show()"
      ],
      "metadata": {
        "colab": {
          "base_uri": "https://localhost:8080/",
          "height": 149
        },
        "id": "6inqNhb-EIkt",
        "outputId": "4248a336-3cdd-4ada-dbb1-929c6e56b7ea"
      },
      "execution_count": null,
      "outputs": [
        {
          "output_type": "display_data",
          "data": {
            "text/plain": [
              "<Figure size 432x288 with 3 Axes>"
            ],
            "image/png": "[encoded data removed]"
          },
          "metadata": {
            "needs_background": "light"
          }
        }
      ]
    },
    {
      "cell_type": "markdown",
      "metadata": {
        "id": "4B63sTNnzIFm"
      },
      "source": [
        "### S7: Image distances, part 2\n",
        "- Repeat questions S5 and S6 after binarizing the images first\n",
        "\n",
        "Q7.1: What is the index of most dis-similar category 3 image:   ___\n",
        "\n",
        "Q7.2: What is the index of most similar category 3 image:   ___\n",
        "\n",
        "Q7.3: Did the answer change after binarization? How do you interprete this finding?:   ___"
      ]
    },
    {
      "cell_type": "code",
      "source": [
        "## Select images\n",
        "X = X_tr_sel2\n",
        "Y = Y_tr_sel2\n",
        "\n",
        "## Binarize images\n",
        "X = (X>128).astype(int)\n",
        "\n",
        "indAll = np.where(Y == 7)[0]\n",
        "imgAll = X[indAll, :, :]\n",
        "print('Num sel: ' + str(indAll.shape))\n",
        "print('Num img mat: ' + str(imgAll.shape))\n",
        "\n",
        "## Calculate avg img\n",
        "img_mean = np.mean(imgAll, axis = 0)\n",
        "img_mean.shape\n",
        "\n",
        "## Find pixelwise \"distance\" of each image to the mean image\n",
        "vec_mean = img_mean.flatten() \n",
        "arr_d = np.zeros(indAll.shape[0])\n",
        "for i, ind_sel in enumerate(indAll):\n",
        "  img_sel = X[ind_sel, :, :].flatten()\n",
        "\n",
        "  d_sel = np.sqrt(np.dot(vec_mean - img_sel, vec_mean - img_sel))\n",
        "  #d_sel = np.linalg.norm(img_sel - vec_mean)\n",
        "  #d_sel = np.sqrt(np.square(img_sel - vec_mean).sum())\n",
        "\n",
        "  arr_d[i] = d_sel\n",
        "  \n",
        "ind_similar = indAll[arr_d.argmin()]\n",
        "ind_dissimilar = indAll[arr_d.argmax()]\n",
        "\n",
        "## Show similar / dissimilar images\n",
        "fig, ax = plt.subplots(nrows = 1, ncols = 3)\n",
        "ax[0].imshow(img_mean)\n",
        "ax[1].imshow(X[ind_similar,:,:])\n",
        "ax[2].imshow(X[ind_dissimilar,:,:])\n",
        "plt.show()"
      ],
      "metadata": {
        "colab": {
          "base_uri": "https://localhost:8080/",
          "height": 184
        },
        "id": "AEhkUFKrGdzJ",
        "outputId": "61dd7ab0-f176-4d7f-f011-dae62486f13a"
      },
      "execution_count": null,
      "outputs": [
        {
          "output_type": "stream",
          "name": "stdout",
          "text": [
            "Num sel: (62,)\n",
            "Num img mat: (62, 28, 28)\n"
          ]
        },
        {
          "output_type": "display_data",
          "data": {
            "text/plain": [
              "<Figure size 432x288 with 3 Axes>"
            ],
            "image/png": "[encoded data removed]"
          },
          "metadata": {
            "needs_background": "light"
          }
        }
      ]
    },
    {
      "cell_type": "markdown",
      "metadata": {
        "id": "mNWILCmDzIFm"
      },
      "source": [
        "### S8: Binary classification between category 3 and 9  (split train data)\n",
        "- Select images from these two categories in the training dataset\n",
        "- Split them into two sets (Set1, Set2) with a %60 and %40 random split\n",
        "- Replace category labels as 0 (for 3) and 1 (for 9)\n",
        "- Use Set1 to train a linear SVM classifier with default parameters and predict the class labels for Set2 \n",
        "- Use Set2 to train a linear SVM classifier with default parameters and predict the class labels for Set1 \n",
        "\n",
        "Q8.1: What is the prediction accuracy using the model trained on Set1:   ___\n",
        "\n",
        "Q8.2: What is the prediction accuracy using the model trained on Set2:   ___"
      ]
    },
    {
      "cell_type": "code",
      "source": [
        "from sklearn.model_selection import train_test_split\n",
        "\n",
        "## Select data\n",
        "X = X_tr_sel2\n",
        "Y = Y_tr_sel2\n",
        "\n",
        "indSel = np.where((Y == 3) | (Y == 9))[0]\n",
        "X = X[indSel, :, :]\n",
        "Y = Y[indSel]\n",
        "\n",
        "## Replace labels\n",
        "Y[Y == 3] = 0\n",
        "Y[Y == 9] = 1\n",
        "\n",
        "## Flatten images\n",
        "X = X.reshape(X.shape[0], -1)\n",
        "\n",
        "## Create train test data\n",
        "X_train, X_test, y_train, y_test = train_test_split(X, Y, test_size=0.4, random_state=42)"
      ],
      "metadata": {
        "id": "9nVa2eMaHsYt"
      },
      "execution_count": null,
      "outputs": []
    },
    {
      "cell_type": "code",
      "source": [
        "from sklearn import svm\n",
        "\n",
        "# Create the svm classifier\n",
        "clf = svm.SVC(kernel='linear') # Linear Kernel\n",
        "\n",
        "# Train the model\n",
        "clf.fit(X_train, y_train)\n",
        "\n",
        "# Predict the label\n",
        "y_pred = clf.predict(X_test)"
      ],
      "metadata": {
        "id": "bFKBS872Ipmc"
      },
      "execution_count": null,
      "outputs": []
    },
    {
      "cell_type": "code",
      "source": [
        "from sklearn import metrics\n",
        "print('Accuracy: ', metrics.accuracy_score(y_test, y_pred))"
      ],
      "metadata": {
        "colab": {
          "base_uri": "https://localhost:8080/"
        },
        "id": "pKJFZmRFKGzI",
        "outputId": "cb1db9f0-973d-45d8-da85-a16e15575305"
      },
      "execution_count": null,
      "outputs": [
        {
          "output_type": "stream",
          "name": "stdout",
          "text": [
            "Accuracy:  0.86\n"
          ]
        }
      ]
    },
    {
      "cell_type": "code",
      "source": [
        "# Train the model\n",
        "clf.fit(X_test, y_test)\n",
        "\n",
        "# Predict the label\n",
        "y_pred = clf.predict(X_train)\n",
        "\n",
        "print('Accuracy: ', metrics.accuracy_score(y_train, y_pred))"
      ],
      "metadata": {
        "colab": {
          "base_uri": "https://localhost:8080/"
        },
        "id": "t3lEXRs8MkF4",
        "outputId": "10cb42f2-8677-4c3a-c4ff-edb4a4814413"
      },
      "execution_count": null,
      "outputs": [
        {
          "output_type": "stream",
          "name": "stdout",
          "text": [
            "Accuracy:  0.9459459459459459\n"
          ]
        }
      ]
    },
    {
      "cell_type": "markdown",
      "metadata": {
        "id": "N_t7LEpezIFn"
      },
      "source": [
        "### S9: Binary classification between category 3 and 9 (train + test sets)\n",
        "- Select images from these two categories in the training and testing datasets\n",
        "- Replace category labels as 0 (for 3) and 1 (for 9)\n",
        "- Use training set to train a linear SVM classifier with default parameters and predict the class labels for the testing set\n",
        "- Use testing set to train a linear SVM classifier with default parameters and predict the class labels for the training set\n",
        "\n",
        "Q9.1: What is the prediction accuracy using the model trained on the training set:   ___\n",
        "\n",
        "Q9.2: What is the prediction accuracy using the model trained on the testing set:   ___"
      ]
    },
    {
      "cell_type": "markdown",
      "metadata": {
        "id": "5cbcdf2_zIFn"
      },
      "source": [
        "### S10: k-NN Error Analysis\n",
        "- In training and testing datasets select the images in categories: 1, 3, 5, 7 or 9\n",
        "- Train k-NN classifiers using 4 to 40 nearest neighbors with a step size of 4\n",
        "- Calculate and plot overall testing accuracy for each experiment\n",
        "\n",
        "Q10.1: For k=4 what is the label that was predicted with lowest accuracy:   ___\n",
        "\n",
        "Q10.2: For k=20 what is the label that was predicted with lowest accuracy:   ___\n",
        "\n",
        "Q10.3: What is the label pair that was confused most often (i.e. class A is labeled as B, and vice versa):   ___\n",
        "\n",
        "Q10.4: Visualize 5 mislabeled samples with their actual and predicted labels"
      ]
    },
    {
      "cell_type": "code",
      "source": [
        "from sklearn.model_selection import train_test_split\n",
        "\n",
        "## Select data\n",
        "X = X_tr_sel2\n",
        "Y = Y_tr_sel2\n",
        "\n",
        "indSel = np.where(np.isin(Y,[1, 3, 5, 7, 9]) == True)[0]\n",
        "X = X[indSel, :, :]\n",
        "Y = Y[indSel]\n",
        "\n",
        "## Flatten images\n",
        "X = X.reshape(X.shape[0], -1)\n",
        "\n",
        "## Create train test data\n",
        "X_train, X_test, y_train, y_test = train_test_split(X, Y, test_size=0.4, random_state=42)"
      ],
      "metadata": {
        "id": "2HlrAMwFM1ba"
      },
      "execution_count": null,
      "outputs": []
    },
    {
      "cell_type": "code",
      "source": [
        "from sklearn.neighbors import KNeighborsClassifier\n",
        "from sklearn.metrics import classification_report, confusion_matrix, accuracy_score\n",
        "\n",
        "arr_k = np.arange(4, 40, 4)\n",
        "mat_pred = np.zeros([arr_k.shape[0], y_test.shape[0]])     ## Matrix to keep predictions from each experiment\n",
        "acc_pred = np.zeros([arr_k.shape[0], 1])     ## Array to keep accuracy from each experiment\n",
        "for i, k in enumerate(arr_k):\n",
        "  classifier = KNeighborsClassifier(n_neighbors = k)\n",
        "  classifier.fit(X_train, y_train)\n",
        "  y_pred = classifier.predict(X_test)\n",
        " mat_pred [i, :] = y_pred\n",
        "  acc_pred[i] = metrics.accuracy_score(y_test, y_pred)\n"
      ],
      "metadata": {
        "id": "jRCTprrENl08"
      },
      "execution_count": null,
      "outputs": []
    },
    {
      "cell_type": "code",
      "source": [
        "print(acc_pred)"
      ],
      "metadata": {
        "colab": {
          "base_uri": "https://localhost:8080/"
        },
        "id": "yee88Y33PtEe",
        "outputId": "383aae80-2e46-45fe-ea5e-d6b09a118161"
      },
      "execution_count": null,
      "outputs": [
        {
          "output_type": "stream",
          "name": "stdout",
          "text": [
            "[[0.79527559]\n",
            " [0.77952756]\n",
            " [0.73228346]\n",
            " [0.7480315 ]\n",
            " [0.71653543]\n",
            " [0.71653543]\n",
            " [0.70866142]\n",
            " [0.69291339]\n",
            " [0.68503937]]\n"
          ]
        }
      ]
    },
    {
      "cell_type": "code",
      "source": [
        "result = confusion_matrix(y_test, mat_pred[0])\n",
        "print(\"Confusion Matrix:\")\n",
        "print(result)"
      ],
      "metadata": {
        "colab": {
          "base_uri": "https://localhost:8080/"
        },
        "id": "cEePL7yiQASf",
        "outputId": "3e09cd8e-2d92-461d-a8f5-2ddbf7e890fd"
      },
      "execution_count": null,
      "outputs": [
        {
          "output_type": "stream",
          "name": "stdout",
          "text": [
            "Confusion Matrix:\n",
            "[[30  0  0  1  1]\n",
            " [ 4 17  0  2  1]\n",
            " [ 1  5 15  0  0]\n",
            " [ 5  0  0 14  3]\n",
            " [ 0  0  0  3 25]]\n"
          ]
        }
      ]
    },
    {
      "cell_type": "code",
      "source": [
        "mat_pred_bin = mat_pred.copy()\n",
        "for i in np.arange(0, mat_pred.shape[0]):\n",
        "  mat_pred_bin[i,:] = (mat_pred[i,:] == y_test).astype(int)\n",
        "mat_pred_sum = mat_pred_bin.sum(axis=0) "
      ],
      "metadata": {
        "id": "9igxjQEFQNok"
      },
      "execution_count": null,
      "outputs": []
    },
    {
      "cell_type": "code",
      "source": [
        "indsel = mat_pred_sum.argmin()"
      ],
      "metadata": {
        "id": "7a0GEnRVQ_lj"
      },
      "execution_count": null,
      "outputs": []
    },
    {
      "cell_type": "code",
      "source": [
        "print('Label / Pred : ' + str(y_test[indsel]) + '    ' + str(mat_pred[:, indsel]))"
      ],
      "metadata": {
        "colab": {
          "base_uri": "https://localhost:8080/"
        },
        "id": "KTabHhbhRY9y",
        "outputId": "af249cfb-59a5-4086-a2ff-6a51842b8370"
      },
      "execution_count": null,
      "outputs": [
        {
          "output_type": "stream",
          "name": "stdout",
          "text": [
            "Label / Pred : 3    [7. 7. 7. 7. 7. 7. 7. 7. 7.]\n"
          ]
        }
      ]
    },
    {
      "cell_type": "code",
      "source": [
        "plt.imshow(X_test[indsel,:].reshape([28,28]))\n",
        "plt.show()"
      ],
      "metadata": {
        "colab": {
          "base_uri": "https://localhost:8080/",
          "height": 265
        },
        "id": "kM3U_OovR3AU",
        "outputId": "c363c353-c65b-4478-9bf7-d3716b427ea2"
      },
      "execution_count": null,
      "outputs": [
        {
          "output_type": "display_data",
          "data": {
            "text/plain": [
              "<Figure size 432x288 with 1 Axes>"
            ],
            "image/png": "[encoded data removed]"
          },
          "metadata": {
            "needs_background": "light"
          }
        }
      ]
    },
    {
      "cell_type": "markdown",
      "metadata": {
        "id": "_BMC-ZGLzIFo"
      },
      "source": [
        "### S11: Feature extraction\n",
        "\n",
        "- We describe each image by using a reduced set of features (compared to n=784 initial features for each pixel value) as follows:\n",
        "  \n",
        "  1. Binarize the image (background=0, foreground=1)\n",
        "\n",
        "  2. For each image row i, find n_i, the sum of 1's in the row (28 features) \n",
        "  \n",
        "  3. For each image column j, find n_j, the sum of 1's in the column (28 features)\n",
        "  \n",
        "  4. Concatenate these features into a feature vector of 56 features\n",
        "  \n",
        "Repeat classification experiments in S9 using this reduced feature set.\n",
        "\n",
        "Q11.1: What is the prediction accuracy using the model trained using the train data:   ___\n",
        "\n",
        "Q11.2: What is the prediction accuracy using the model trained using the test data:   ___\n"
      ]
    },
    {
      "cell_type": "code",
      "source": [
        "X = X_tr_sel2\n",
        "X = (X > 0).astype(int)\n",
        "\n",
        "X.shape"
      ],
      "metadata": {
        "colab": {
          "base_uri": "https://localhost:8080/"
        },
        "id": "10j5HnL-SdKp",
        "outputId": "257bd86b-b952-4542-bac7-f663149c22aa"
      },
      "execution_count": null,
      "outputs": [
        {
          "output_type": "execute_result",
          "data": {
            "text/plain": [
              "(600, 28, 28)"
            ]
          },
          "metadata": {},
          "execution_count": 269
        }
      ]
    },
    {
      "cell_type": "code",
      "source": [
        "X0 = X[0,:,:]\n",
        "plt.imshow(X0)\n",
        "plt.show()"
      ],
      "metadata": {
        "colab": {
          "base_uri": "https://localhost:8080/",
          "height": 265
        },
        "id": "WK-fWUrgSzRE",
        "outputId": "85199abb-f608-4dd2-b104-77d4b1ff0953"
      },
      "execution_count": null,
      "outputs": [
        {
          "output_type": "display_data",
          "data": {
            "text/plain": [
              "<Figure size 432x288 with 1 Axes>"
            ],
            "image/png": "[encoded data removed]"
          },
          "metadata": {
            "needs_background": "light"
          }
        }
      ]
    },
    {
      "cell_type": "code",
      "source": [
        "f1 = X0.sum(axis=0)\n",
        "print(f1)"
      ],
      "metadata": {
        "colab": {
          "base_uri": "https://localhost:8080/"
        },
        "id": "BzyP4JV2TAsd",
        "outputId": "bc1d6036-0c01-46e9-c810-9eea4a9187eb"
      },
      "execution_count": null,
      "outputs": [
        {
          "output_type": "stream",
          "name": "stdout",
          "text": [
            "[ 0  0  0  0  2  2  3  5  8  9 10 12 14 15 15 13 13 14 10  8  5  3  3  2\n",
            "  0  0  0  0]\n"
          ]
        }
      ]
    },
    {
      "cell_type": "code",
      "source": [
        "f2 = X0.sum(axis=1)\n",
        "print(f2)"
      ],
      "metadata": {
        "colab": {
          "base_uri": "https://localhost:8080/"
        },
        "id": "U-3jc9-0TWEU",
        "outputId": "f10f3311-7ba0-49cb-81e8-c19b4eb99eda"
      },
      "execution_count": null,
      "outputs": [
        {
          "output_type": "stream",
          "name": "stdout",
          "text": [
            "[ 0  0  0  0  0 12 16 16 11  9  5  4  4  6  6  6  5  4  7  8  9 10 10 10\n",
            "  8  0  0  0]\n"
          ]
        }
      ]
    },
    {
      "cell_type": "code",
      "source": [
        "f12 = np.concatenate((f1,f2))\n",
        "f12.shape"
      ],
      "metadata": {
        "colab": {
          "base_uri": "https://localhost:8080/"
        },
        "id": "vKR-QyudTcEe",
        "outputId": "24187687-6034-4e5b-9db8-38431a06ef54"
      },
      "execution_count": null,
      "outputs": [
        {
          "output_type": "execute_result",
          "data": {
            "text/plain": [
              "(56,)"
            ]
          },
          "metadata": {},
          "execution_count": 279
        }
      ]
    },
    {
      "cell_type": "markdown",
      "metadata": {
        "id": "pX1b_DEIzIFo"
      },
      "source": [
        "### Bonus:\n",
        "\n",
        "- This time we describe each 28 x 28 image by using a different feature set (n = 28 x 4 features). This feature set encodes \"index of the first non-zero pixel in image columns or rows\" from each direction (from left, right, top, bottom)\n",
        "\n",
        "Example for a 6 x 6 image:\n",
        "\n",
        "Img:\n",
        " 0 0 0 0 0 0\n",
        " 0 0 0 1 0 0\n",
        " 0 0 0 1 0 0\n",
        " 0 0 0 1 0 0\n",
        " 0 0 0 1 0 0\n",
        " 0 0 0 0 0 0\n",
        " \n",
        "Extracted features:\n",
        " 0 3 3 3 3 0  0 2 2 2 2 0  0 0 0 1 0 0  0 0 0 1 0 0   (left, right, top, bottom)\n",
        "  \n",
        "Repeat classification experiments in S9 using this reduced feature set.\n",
        "\n",
        "Q11.1: What is the prediction accuracy using the model trained using the train data:   ___\n",
        "\n",
        "Q11.2: What is the prediction accuracy using the model trained using the test data:   ___\n"
      ]
    }
  ],
  "metadata": {
    "kernelspec": {
      "display_name": "Python 3 (ipykernel)",
      "language": "python",
      "name": "python3"
    },
    "language_info": {
      "codemirror_mode": {
        "name": "ipython",
        "version": 3
      },
      "file_extension": ".py",
      "mimetype": "text/x-python",
      "name": "python",
      "nbconvert_exporter": "python",
      "pygments_lexer": "ipython3",
      "version": "3.9.12"
    },
    "colab": {
      "provenance": [],
      "collapsed_sections": [
        "Y3JkhtmuzIFh",
        "N_t7LEpezIFn",
        "_BMC-ZGLzIFo",
        "pX1b_DEIzIFo"
      ]
    }
  },
  "nbformat": 4,
  "nbformat_minor": 0
}