{
 "cells": [
  {
   "cell_type": "markdown",
   "metadata": {},
   "source": [
    "# Sentinel Hub\n",
    "\n",
    "A graphical interface to a complete and daily updated Sentinel-2 archive\n",
    "\n",
    "Link: https://www.sentinel-hub.com\n"
   ]
  },
  {
   "cell_type": "markdown",
   "metadata": {},
   "source": [
    "### Activity:\n",
    "- Go to Sentinel Hub\n",
    "- Select a location (Philadelphia?)\n",
    "- Display it in real color\n",
    "- Display different color bands   "
   ]
  },
  {
   "cell_type": "markdown",
   "metadata": {},
   "source": [
    "### Scripting on EO Browser\n",
    "https://www.sentinel-hub.com/docs/Custom_script_tutorial.pdf"
   ]
  },
  {
   "cell_type": "markdown",
   "metadata": {},
   "source": [
    "## Custom scripting, simple usage:\n",
    "\n",
    "Playground provides a Javascript based interface for visualization.\n",
    " \n",
    "Custom scripts: Javascript code used to control the visualization and processing of satellite images with\n",
    "Sentinel Hub\n",
    "\n"
   ]
  },
  {
   "cell_type": "markdown",
   "metadata": {},
   "source": [
    "### Activity:\n",
    "- Select a location (Mount Etna)\n",
    "- Display it using the following script:\n",
    "\n",
    "return [\n",
    "    B04 * 2.5 + Math.max(0, B12 - 0.1),\n",
    "    B03 * 2.5 + Math.max(0, B11 - 0.1),\n",
    "    B02 * 2.5\n",
    "];"
   ]
  },
  {
   "cell_type": "markdown",
   "metadata": {},
   "source": [
    "## Map algebra\n",
    "\n",
    "<img src=\"Images/mapAlgebra.png\">\n"
   ]
  },
  {
   "cell_type": "markdown",
   "metadata": {},
   "source": [
    "## Custom scripting, basic functions:\n",
    "\n",
    "<img src=\"Images/img1.png\">\n",
    "\n",
    "\n",
    "### Activity: Visualize Etna Eruption\n",
    "- Select a location (Etna Parco Regio)\n",
    "- Select a date (2017-03-16)\n",
    "- Display it using the following script:\n",
    "\n"
   ]
  },
  {
   "cell_type": "markdown",
   "metadata": {},
   "source": [
    "#### Simple script (True color)"
   ]
  },
  {
   "cell_type": "code",
   "execution_count": 1,
   "metadata": {},
   "outputs": [
    {
     "ename": "SyntaxError",
     "evalue": "'return' outside function (<ipython-input-1-366388989b1c>, line 1)",
     "output_type": "error",
     "traceback": [
      "\u001b[0;36m  File \u001b[0;32m\"<ipython-input-1-366388989b1c>\"\u001b[0;36m, line \u001b[0;32m1\u001b[0m\n\u001b[0;31m    return [ B04 * 2.5, B03 * 2.5, B02 * 2.5 ];\u001b[0m\n\u001b[0m                                               ^\u001b[0m\n\u001b[0;31mSyntaxError\u001b[0m\u001b[0;31m:\u001b[0m 'return' outside function\n"
     ]
    }
   ],
   "source": [
    "return [ B04 * 2.5, B03 * 2.5, B02 * 2.5 ];"
   ]
  },
  {
   "cell_type": "markdown",
   "metadata": {},
   "source": [
    "#### Simple script (False color, Vegetation in Red channel)"
   ]
  },
  {
   "cell_type": "code",
   "execution_count": null,
   "metadata": {},
   "outputs": [],
   "source": [
    "return [ B08 * 2.5, B04 * 2.5, B03 * 2.5 ];"
   ]
  },
  {
   "cell_type": "markdown",
   "metadata": {},
   "source": [
    "#### Simple script (Highlight lava)"
   ]
  },
  {
   "cell_type": "code",
   "execution_count": null,
   "metadata": {},
   "outputs": [],
   "source": [
    "return [ B12 * 2.5, B11 * 2.5, B04 * 2.5 ];"
   ]
  },
  {
   "cell_type": "markdown",
   "metadata": {},
   "source": [
    "#### Simple script (Urban Areas)"
   ]
  },
  {
   "cell_type": "code",
   "execution_count": null,
   "metadata": {},
   "outputs": [],
   "source": [
    "/*URBAN AREAS\n",
    "  Sentinel1-AWS-IW-VVVH\n",
    "  Author: Monja Sebela\n",
    "*/\n",
    "\n",
    "\n",
    "return [5.5 * VH > 0.5, VV, VH * 8];"
   ]
  },
  {
   "cell_type": "markdown",
   "metadata": {},
   "source": [
    "<img src=\"Images/shub1_Etna.png\">"
   ]
  },
  {
   "cell_type": "markdown",
   "metadata": {},
   "source": [
    "<img src=\"Images/shub2_Etna.png\">"
   ]
  },
  {
   "cell_type": "markdown",
   "metadata": {},
   "source": [
    "## Creating an Index\n",
    "\n",
    "### NDVI =  (𝑁𝐼𝑅−𝑅𝐸𝐷) / (𝑁𝐼𝑅+𝑅𝐸𝐷)"
   ]
  },
  {
   "cell_type": "markdown",
   "metadata": {},
   "source": [
    "let NDVI = 2.5 * ((B08 - B04) / (B08 + B04));\n",
    "return [ NDVI ]\n",
    "or\n",
    "return [0, NDVI, 0]\n"
   ]
  },
  {
   "cell_type": "markdown",
   "metadata": {},
   "source": [
    "## Index function"
   ]
  },
  {
   "cell_type": "code",
   "execution_count": null,
   "metadata": {},
   "outputs": [],
   "source": [
    "let NDVI = index ( B08 ,  B04 ); //   index(X,Y) -> (X-Y)/(X+Y) \n"
   ]
  },
  {
   "cell_type": "markdown",
   "metadata": {},
   "source": [
    "### List of indexes\n",
    "\n",
    "<img src=\"Images/listIndex.png\">\n"
   ]
  },
  {
   "cell_type": "markdown",
   "metadata": {},
   "source": [
    "## Custom color scales"
   ]
  },
  {
   "cell_type": "markdown",
   "metadata": {},
   "source": [
    "### Activity: Discrete color scale for NDVI\n",
    "    "
   ]
  },
  {
   "cell_type": "code",
   "execution_count": null,
   "metadata": {},
   "outputs": [],
   "source": [
    "var NDVI = index (B08, B04); \n",
    "if (NDVI < 0.2) {\n",
    " return [0.3, 0.2, 0.7]\n",
    "}\n",
    "if (NDVI < 0.5) {\n",
    " return [0.2, 0.6, 0.3]\n",
    "}\n",
    "if (NDVI < 0.7) {\n",
    " return [0.5, 0.8, 0.2]\n",
    "}\n",
    "else {\n",
    " return [1, 0.4, 0]\n",
    "}"
   ]
  },
  {
   "cell_type": "markdown",
   "metadata": {},
   "source": [
    "### Activity: Continuous color scale for NDVI\n",
    "    "
   ]
  },
  {
   "cell_type": "code",
   "execution_count": null,
   "metadata": {},
   "outputs": [],
   "source": [
    "var NDVI = index (B08, B04);\n",
    "return colorBlend\n",
    "(NDVI, // Pixel value\n",
    " [0, 0.5, 1], // Define the borders\n",
    " [ [0, 0, 1], // Define the RGB colors for each border\n",
    " [0, 1, 0],\n",
    " [1, 0, 0],\n",
    " ]);"
   ]
  },
  {
   "cell_type": "markdown",
   "metadata": {},
   "source": [
    "<img src=\"Images/phl2.png\">"
   ]
  },
  {
   "cell_type": "markdown",
   "metadata": {},
   "source": [
    "## Sentinel Hub Custom Script Contest\n",
    "\n",
    "Many examples!\n",
    "\n",
    "https://custom-scripts.sentinel-hub.com/\n",
    "\n",
    "https://sentinel-hub.com/contest"
   ]
  }
 ],
 "metadata": {
  "kernelspec": {
   "display_name": "Python 3 (ipykernel)",
   "language": "python",
   "name": "python3"
  },
  "language_info": {
   "codemirror_mode": {
    "name": "ipython",
    "version": 3
   },
   "file_extension": ".py",
   "mimetype": "text/x-python",
   "name": "python",
   "nbconvert_exporter": "python",
   "pygments_lexer": "ipython3",
   "version": "3.8.17"
  }
 },
 "nbformat": 4,
 "nbformat_minor": 4
}
