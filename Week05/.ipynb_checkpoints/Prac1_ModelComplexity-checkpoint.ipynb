{
 "cells": [
  {
   "cell_type": "markdown",
   "metadata": {},
   "source": [
    "## Model Complexity, overfitting, Bias-Variance tradeoff"
   ]
  },
  {
   "cell_type": "code",
   "execution_count": null,
   "metadata": {},
   "outputs": [],
   "source": [
    "### Example data\n",
    "\n",
    "import numpy as np\n",
    "import matplotlib.pyplot as plt\n",
    "\n",
    "from sklearn.linear_model import LinearRegression\n",
    "\n",
    "NUMS = 10\n",
    "\n",
    "np.random.seed(41)\n",
    "x = 2 - 3 * np.random.normal(0, 1, NUMS)\n",
    "y = 4 * x - 2 * (x ** 2) + 0.5 * (x ** 3) + np.random.normal(-25, 25, NUMS)\n",
    "\n",
    "indSort = np.argsort(x)\n",
    "x = x[indSort]\n",
    "y = y[indSort]\n",
    "\n",
    "plt.scatter(x, y, s=10)\n",
    "plt.show()"
   ]
  },
  {
   "cell_type": "code",
   "execution_count": null,
   "metadata": {},
   "outputs": [],
   "source": [
    "## Linear regression\n",
    "\n",
    "mdlfit = np.polyfit(x, y, 1)\n",
    "y_pred = mdlfit[0] * x + mdlfit[1]\n",
    "\n",
    "print(mdlfit)\n",
    "\n",
    "plt.scatter(x, y, s=10)\n",
    "plt.plot(x, y_pred, color='r')\n",
    "plt.show()"
   ]
  },
  {
   "cell_type": "code",
   "execution_count": null,
   "metadata": {},
   "outputs": [],
   "source": [
    "## Linear regression\n",
    "\n",
    "xx = x.copy()[:, np.newaxis]\n",
    "yy = y.copy()[:, np.newaxis]\n",
    "\n",
    "model = LinearRegression()\n",
    "model.fit(xx, yy)\n",
    "y_pred = model.predict(xx)\n",
    "\n",
    "plt.scatter(xx, yy, s=10)\n",
    "plt.plot(xx, y_pred, color='r')\n",
    "plt.show()\n"
   ]
  },
  {
   "cell_type": "code",
   "execution_count": null,
   "metadata": {},
   "outputs": [],
   "source": [
    "## Calculate fitting error (root mean squared error)\n",
    "from sklearn.metrics import mean_squared_error \n",
    "rmse = np.sqrt(mean_squared_error(y, y_pred))\n",
    "print('RMSE:' + str(rmse))"
   ]
  },
  {
   "cell_type": "code",
   "execution_count": null,
   "metadata": {},
   "outputs": [],
   "source": [
    "## More complex models (polynomial fits)\n",
    "\n",
    "mdlfit2 = np.polyfit(x, y, 2)\n",
    "y_pred2 = mdlfit2[0] * x * x + mdlfit2[1] * x + mdlfit2[2]\n",
    "#y_pred2 = np.polyval(mdlfit2, x)\n",
    "\n",
    "print(mdlfit2)\n",
    "\n",
    "plt.scatter(x, y, s=10)\n",
    "plt.plot(x, y_pred2, color='r')\n",
    "plt.show()\n"
   ]
  },
  {
   "cell_type": "code",
   "execution_count": null,
   "metadata": {},
   "outputs": [],
   "source": [
    "## Calculate fitting error (root mean squared error)\n",
    "rmse = np.sqrt(mean_squared_error(y, y_pred2))\n",
    "print('RMSE:' + str(rmse))"
   ]
  },
  {
   "cell_type": "code",
   "execution_count": null,
   "metadata": {},
   "outputs": [],
   "source": [
    "## More complex models (polynomial fits)\n",
    "\n",
    "mdlfit3 = np.polyfit(x, y, 3)\n",
    "y_pred3 = np.polyval(mdlfit3, x)\n",
    "\n",
    "print(mdlfit3)\n",
    "\n",
    "plt.scatter(x, y, s=10)\n",
    "plt.plot(x, y_pred3, color='r')\n",
    "plt.show()\n"
   ]
  },
  {
   "cell_type": "code",
   "execution_count": null,
   "metadata": {},
   "outputs": [],
   "source": [
    "## Calculate fitting error (root mean squared error)\n",
    "rmse = np.sqrt(mean_squared_error(y, y_pred3))\n",
    "print('RMSE:' + str(rmse))"
   ]
  },
  {
   "cell_type": "code",
   "execution_count": null,
   "metadata": {},
   "outputs": [],
   "source": [
    "## More complex models (polynomial fits)\n",
    "mdlfit8 = np.polyfit(x, y, 8)\n",
    "y_pred8 = np.polyval(mdlfit8, x)\n",
    "\n",
    "print(mdlfit8)\n",
    "\n",
    "plt.scatter(x, y, s=10)\n",
    "plt.plot(x, y_pred8, color='r')\n",
    "plt.show()\n"
   ]
  },
  {
   "cell_type": "code",
   "execution_count": null,
   "metadata": {},
   "outputs": [],
   "source": [
    "## Calculate fitting error (root mean squared error)\n",
    "rmse = np.sqrt(mean_squared_error(y, y_pred8))\n",
    "print('RMSE:' + str(rmse))"
   ]
  }
 ],
 "metadata": {
  "kernelspec": {
   "display_name": "Python 3 (ipykernel)",
   "language": "python",
   "name": "python3"
  },
  "language_info": {
   "codemirror_mode": {
    "name": "ipython",
    "version": 3
   },
   "file_extension": ".py",
   "mimetype": "text/x-python",
   "name": "python",
   "nbconvert_exporter": "python",
   "pygments_lexer": "ipython3",
   "version": "3.9.12"
  }
 },
 "nbformat": 4,
 "nbformat_minor": 2
}
